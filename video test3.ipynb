{
 "cells": [
  {
   "cell_type": "code",
   "execution_count": 1,
   "id": "e2a52dbe",
   "metadata": {},
   "outputs": [],
   "source": [
    "import os\n",
    "import cv2\n",
    "import json\n",
    "import torch\n",
    "import shutil\n",
    "import numpy as np\n",
    "from collections import Counter"
   ]
  },
  {
   "cell_type": "code",
   "execution_count": 2,
   "id": "57af34db",
   "metadata": {},
   "outputs": [],
   "source": [
    "os.chdir('F:\\egyptian car plates dataset\\EALPR Vechicles dataset\\plates models\\detection_model\\model3\\yolov5/')"
   ]
  },
  {
   "cell_type": "code",
   "execution_count": 3,
   "id": "51e42e91",
   "metadata": {},
   "outputs": [
    {
     "name": "stderr",
     "output_type": "stream",
     "text": [
      "YOLOv5  2023-9-24 Python-3.11.5 torch-2.0.1+cpu CPU\n",
      "\n",
      "Fusing layers... \n",
      "Model summary: 157 layers, 7012822 parameters, 0 gradients, 15.8 GFLOPs\n",
      "Adding AutoShape... \n",
      "YOLOv5  2023-9-24 Python-3.11.5 torch-2.0.1+cpu CPU\n",
      "\n",
      "Fusing layers... \n",
      "Model summary: 157 layers, 7080247 parameters, 0 gradients, 16.0 GFLOPs\n",
      "Adding AutoShape... \n"
     ]
    }
   ],
   "source": [
    "detection_model = torch.hub.load('.', 'custom', path='F:\\egyptian car plates dataset\\EALPR Vechicles dataset\\plates models\\detection_model\\model3/best.pt', source='local')\n",
    "\n",
    "recognition_model = torch.hub.load('.', 'custom', path=r'F:\\egyptian car plates dataset\\EALPR Vechicles dataset\\plates models\\model9/best.pt', source='local')"
   ]
  },
  {
   "cell_type": "code",
   "execution_count": 4,
   "id": "9a3e44f6",
   "metadata": {},
   "outputs": [],
   "source": [
    "images = r'F:\\egyptian car plates dataset\\EALPR Vechicles dataset\\plates models\\detection_model\\model3\\images/'\n",
    "cropped_img_dir = r'F:\\egyptian car plates dataset\\EALPR Vechicles dataset\\plates models\\detection_model\\model3\\yolov5\\runs\\detect'\n",
    "exp_path = r'F:\\egyptian car plates dataset\\EALPR Vechicles dataset\\plates models\\detection_model\\model3\\yolov5\\runs\\detect\\exp'\n",
    "saved_img_dir = r'F:\\egyptian car plates dataset\\EALPR Vechicles dataset\\plates models\\detection_model\\model3\\saved_images'\n",
    "selected_img_dir = r'F:\\egyptian car plates dataset\\EALPR Vechicles dataset\\plates models\\detection_model\\model3\\saved_images2\\img.jpg'\n",
    "selected_images_dir = r'F:\\egyptian car plates dataset\\EALPR Vechicles dataset\\plates models\\detection_model\\model3\\saved_images2'\n",
    "resized_img_dir = r'F:\\egyptian car plates dataset\\EALPR Vechicles dataset\\plates models\\detection_model\\model3\\resized_images'"
   ]
  },
  {
   "cell_type": "code",
   "execution_count": 5,
   "id": "70010747",
   "metadata": {},
   "outputs": [],
   "source": [
    "def delete_folder_or_file(path):\n",
    "    try:\n",
    "        if os.path.exists(path):\n",
    "            folder_path = path.split(\"\\\\\")\n",
    "            if \"exp\" in folder_path:\n",
    "                shutil.rmtree(path)\n",
    "            else:\n",
    "                for img in os.listdir(path):\n",
    "                    img_path = os.path.join(path, img)\n",
    "                    # Use os.remove() to delete the file\n",
    "                    os.remove(img_path)\n",
    "            return \"Deletion completed successfully\"\n",
    "        else:\n",
    "            return \"Path does not exist\"\n",
    "    except FileNotFoundError as e:\n",
    "        return f\"Error occurred while deleting the file/folder: {e}\""
   ]
  },
  {
   "cell_type": "code",
   "execution_count": 6,
   "id": "67529df0",
   "metadata": {},
   "outputs": [],
   "source": [
    "def if_folder_exists():\n",
    "    folder_path = r\"F:\\egyptian car plates dataset\\EALPR Vechicles dataset\\plates models\\detection_model\\model3\\yolov5\\runs\\detect\\exp\\crops\"\n",
    "    if os.path.exists(folder_path):\n",
    "        return(\"1\")"
   ]
  },
  {
   "cell_type": "code",
   "execution_count": 7,
   "id": "f73f2988",
   "metadata": {},
   "outputs": [],
   "source": [
    "def save_cropped_img(cropped_img_dir, saved_img_dir):\n",
    "    for filename in os.listdir(cropped_img_dir):\n",
    "        for crops in os.listdir(os.path.join(cropped_img_dir, filename)):\n",
    "            if crops == \"crops\":\n",
    "                for plate in os.listdir(os.path.join(cropped_img_dir, filename, crops)):\n",
    "                    for img in os.listdir(os.path.join(cropped_img_dir, filename, crops, plate)):\n",
    "                        img_path = os.path.join(cropped_img_dir, filename, crops, plate, img)\n",
    "                        image = cv2.imread(img_path)\n",
    "                        cv2.imwrite(saved_img_dir + \"//\" + img, image)\n",
    "    return"
   ]
  },
  {
   "cell_type": "code",
   "execution_count": 8,
   "id": "4fb8b3c3",
   "metadata": {},
   "outputs": [],
   "source": [
    "def select_img(saved_img_dir, selected_img_dir):\n",
    "    folder_path = saved_img_dir\n",
    "\n",
    "    # Check if there are any images in the directory\n",
    "    if not any(os.path.isfile(os.path.join(folder_path, filename)) for filename in os.listdir(folder_path)):\n",
    "        print(f\"No images found in {folder_path}. Exiting.\")\n",
    "        return\n",
    "\n",
    "    image_data = {}\n",
    "    for filename in os.listdir(folder_path):\n",
    "        if os.path.isfile(os.path.join(folder_path, filename)):\n",
    "            image_path = os.path.join(folder_path, filename)\n",
    "            img = cv2.imread(image_path)\n",
    "            if img is not None:\n",
    "                height, width, _ = img.shape\n",
    "                image_data[filename] = height * width\n",
    "\n",
    "    desired_value = max(image_data.values())\n",
    "    keys = [key for key, value in image_data.items() if value == desired_value]\n",
    "\n",
    "    x = folder_path + \"\\\\\" + keys[0]\n",
    "    image = cv2.imread(x)\n",
    "    \n",
    "    if image is not None:\n",
    "        cv2.imwrite(selected_img_dir, image)\n",
    "    else:\n",
    "        print(f\"Error: Failed to read or process the selected image.\")\n",
    "        return"
   ]
  },
  {
   "cell_type": "code",
   "execution_count": 9,
   "id": "45e0bb6b",
   "metadata": {},
   "outputs": [],
   "source": [
    "def resize_img(selected_images_dir, resized_img_dir):\n",
    "    # Create the output folder if it doesn't exist\n",
    "    os.makedirs(resized_img_dir, exist_ok=True)\n",
    "    # Iterate over the files in the input folder\n",
    "    for filename in os.listdir(selected_images_dir):\n",
    "        input_path = os.path.join(selected_images_dir, filename)\n",
    "        output_path = os.path.join(resized_img_dir, filename)\n",
    "\n",
    "        # Check if the file is an image\n",
    "        if filename.endswith('.jpg') or filename.endswith('.jpeg') or filename.endswith('.png'):\n",
    "            # Read the image\n",
    "            image = cv2.imread(input_path)\n",
    "\n",
    "            # Check if the image was successfully read\n",
    "            if image is not None:\n",
    "                ratio = 600 / image.shape[1]\n",
    "                width = round(image.shape[1] * ratio)\n",
    "                height = round(image.shape[0] * ratio)\n",
    "\n",
    "                # Resize the image\n",
    "                resized_image = cv2.resize(image, (width, height))\n",
    "\n",
    "                # Save the resized image to the output folder\n",
    "                cv2.imwrite(output_path, resized_image)\n",
    "                # print(f\"Resized image saved: {output_path}\")\n",
    "            else:\n",
    "                print(f\"Failed to read image: {input_path}\")\n",
    "        else:\n",
    "            print(f\"Skipping non-image file: {input_path}\")"
   ]
  },
  {
   "cell_type": "code",
   "execution_count": 10,
   "id": "3642835f",
   "metadata": {},
   "outputs": [],
   "source": [
    "def reverse_labels_and_boxes(img_path):\n",
    "    for img in os.listdir(img_path):\n",
    "        image_path = img_path + \"\\\\\" + img\n",
    "    results = recognition_model(image_path)\n",
    "\n",
    "    # Get the predicted labels and bounding box coordinates\n",
    "    labels = results.xyxyn[0][:, -1].cpu().numpy()\n",
    "    boxes = results.xyxyn[0][:, :-1].cpu().numpy()\n",
    "\n",
    "    # Get the class names associated with the model\n",
    "    class_names = recognition_model.module.names if hasattr(recognition_model, 'module') else recognition_model.names\n",
    "\n",
    "    # Reverse the order of labels and bounding boxes\n",
    "    reversed_labels = labels[::-1]\n",
    "    reversed_boxes = boxes[::-1]\n",
    "    return reversed_labels, reversed_boxes, class_names"
   ]
  },
  {
   "cell_type": "code",
   "execution_count": 11,
   "id": "d8b59f84",
   "metadata": {},
   "outputs": [],
   "source": [
    "def return_model_result(reversed_labels, reversed_boxes, class_names):        \n",
    "        # Initialize an empty dictionary to store the results\n",
    "        model_result = {}\n",
    "\n",
    "        # Iterate over the reversed bounding box coordinates and labels\n",
    "        for label, box in zip(reversed_labels, reversed_boxes):\n",
    "            # Get the label name using the model's class names\n",
    "            label_name = class_names[int(label)]\n",
    "\n",
    "            # Check if the label name already exists in the dictionary\n",
    "            if label_name in model_result:\n",
    "                # If the label name exists, append the bounding box to the existing list\n",
    "                model_result[label_name].append(box[0])\n",
    "            else:\n",
    "                # If the label name doesn't exist, create a new list with the bounding box\n",
    "                model_result[label_name] = [box[0]]\n",
    "\n",
    "        # Print the model_result dictionary\n",
    "        return model_result"
   ]
  },
  {
   "cell_type": "code",
   "execution_count": 12,
   "id": "6e7dd531",
   "metadata": {},
   "outputs": [],
   "source": [
    "def return_sorted_plate_characters(reversed_labels, reversed_boxes,class_names, model_result):\n",
    "    lst = []\n",
    "    for label, box in zip(reversed_labels, reversed_boxes):\n",
    "        # Get the label name using the model's class names\n",
    "        label_name = class_names[int(label)]\n",
    "\n",
    "        lst.append(box[0])\n",
    "\n",
    "    lst.sort()  # Sort the list of bounding boxes in ascending order\n",
    "\n",
    "    # Initialize an empty list to store the matching keys\n",
    "    matching_keys = []\n",
    "\n",
    "    # Iterate over the elements in lst\n",
    "    for item in lst:\n",
    "        found_match = False\n",
    "        for key, value in model_result.items():\n",
    "            if np.allclose(value, item):\n",
    "                matching_keys.append(key)\n",
    "                found_match = True\n",
    "                break\n",
    "        if not found_match:\n",
    "            # Check if the item matches any array value element-wise\n",
    "            for key, value in model_result.items():\n",
    "                if any(np.allclose(v, item) for v in value):\n",
    "                    matching_keys.append(key)\n",
    "                    break\n",
    "\n",
    "    # return the matching keys\n",
    "    return matching_keys"
   ]
  },
  {
   "cell_type": "code",
   "execution_count": 13,
   "id": "aa7767d9",
   "metadata": {},
   "outputs": [],
   "source": [
    "replace_arabic_characters_and_digits = {\"zero\": 0, \"one\": 1, \"two\": 2, \"three\": 3, \"four\": 4, \"five\": 5, \"six\": 6, \"seven\": 7, \"eight\": 8, \"nine\": 9,\n",
    "                                        \"alif\":\"أ\", \"baa\":\"ب\", \"geem\":\"ج\", \"daal\":\"د\", \"raa\":\"ر\", \"seen\":\"س\", \"saad\":\"ص\", \"taa\":\"ط\",\n",
    "                                        \"ein\":\"ع\", \"faa\":\"ف\", \"qaaf\":\"ق\",\"kaaf\":\"ك\", \"laam\":\"ل\", \"meem\":\"م\", \"noon\":\"ن\", \"haa\":\"ه\", \"waaw\":\"و\", \"yaa\":\"ي\"}"
   ]
  },
  {
   "cell_type": "code",
   "execution_count": 14,
   "id": "cf955b7a",
   "metadata": {},
   "outputs": [],
   "source": [
    "def convert_plate_characters(matching_keys):\n",
    "    # Initialize an empty list to store the corresponding values\n",
    "    matching_values = []\n",
    "\n",
    "    # Iterate over the keys in matching_keys\n",
    "    for key in matching_keys:\n",
    "        if key in replace_arabic_characters_and_digits:\n",
    "            value = replace_arabic_characters_and_digits[key]\n",
    "            matching_values.append(value)\n",
    "\n",
    "    # Print the matching values\n",
    "    return matching_values"
   ]
  },
  {
   "cell_type": "code",
   "execution_count": 15,
   "id": "4f03e21f",
   "metadata": {},
   "outputs": [],
   "source": [
    "def join_digits_and_sort_characters(matching_values):\n",
    "    numbers = \"\"\n",
    "    characters = \"\"\n",
    "    for item in matching_values:\n",
    "        item_str = str(item)  # Convert item to string\n",
    "        if item_str.isdigit():\n",
    "            numbers += item_str\n",
    "        else:\n",
    "            characters += item_str\n",
    "    separated_characters = list(characters[::-1])\n",
    "    result_list = [numbers, separated_characters]\n",
    "    return result_list"
   ]
  },
  {
   "cell_type": "code",
   "execution_count": 16,
   "id": "c1463cef",
   "metadata": {},
   "outputs": [],
   "source": [
    "def get_governorate(result_list):\n",
    "    replace_first_element = {\"س\": \"الإسكندرية\", \"ر\": \"الشرقية\", \"د\": \"الدقهلية\", \"م\": \"المنوفية\", \"ب\": \"البحيرة\",\n",
    "                             \"ل\": \"كفر الشيخ\", \"ع\": \"الغربية\", \"ق\": \"القليوبية\", \"ف\": \"الفيوم\", \"و\": \"بني سويف\",\n",
    "                             \"ن\": \"المنيا\", \"ي\": \"أسيوط\", \"ه\": \"سوهاج\", \"أ\": \"القاهرة\"}\n",
    "\n",
    "    replace_second_element_if_first_geem = {\"ه\": \"مطروح\", \"ب\": \"الوادي الجديد\"}\n",
    "\n",
    "    replace_second_element_if_first_saad = {\"أ\": \"قنا\", \"ق\": \"الأقصر\", \"و\": \"أسوان\"}\n",
    "\n",
    "    replace_second_element_if_first_taa = {\"س\": \"السويس\", \"ن\": \"الاسماعيلية\",\"ص\": \"الاسماعيلية\", \"ب\": \"بورسعيد\",\"ع\": \"بورسعيد\", \"د\": \"دمياط\",\n",
    "                                           \"أ\": \"شمال سيناء\", \"ج\": \"جنوب سيناء\", \"ر\": \"البحر الأحمر\"}\n",
    "    \n",
    "    if len(result_list[0]) >= 5 and len(result_list[1]) == 0:\n",
    "            value = \"دبلوماسية\"               \n",
    "    if len(result_list[0]) == 6 and len(result_list[1]) == 1:\n",
    "            value = \"شرطة\"\n",
    "    elif len(result_list[1]) >= 2:\n",
    "        first_char = result_list[1][0]\n",
    "        sec_char = result_list[1][1]\n",
    "        if len(result_list[0]) == 3 and len(result_list[1]) == 3:\n",
    "            value = \"القاهرة\"\n",
    "        elif len(result_list[0]) == 4 and len(result_list[1]) == 2:\n",
    "            value = \"الجيزة\"\n",
    "        elif len(result_list[0]) == 4 and len(result_list[1]) == 3:\n",
    "            if first_char == \"ج\":\n",
    "                value = replace_second_element_if_first_geem.get(sec_char, \"أخرى\")\n",
    "            elif first_char == \"ص\":\n",
    "                value = replace_second_element_if_first_saad.get(sec_char, \"أخرى\")\n",
    "            elif first_char == \"ط\":\n",
    "                value = replace_second_element_if_first_taa.get(sec_char, \"أخرى\")\n",
    "            else:\n",
    "                value = replace_first_element.get(first_char, \"أخرى\")\n",
    "        else:\n",
    "            value = \"أخرى\"\n",
    "    else:\n",
    "        value = \"أخرى\"\n",
    "    \n",
    "    return value"
   ]
  },
  {
   "cell_type": "code",
   "execution_count": 17,
   "id": "668c93e0",
   "metadata": {},
   "outputs": [],
   "source": [
    "def append_governorate_to_result_list(result_list, value):\n",
    "    value = get_governorate(result_list)\n",
    "    result_list.append(value)\n",
    "    return result_list"
   ]
  },
  {
   "cell_type": "code",
   "execution_count": 18,
   "id": "2601745a",
   "metadata": {},
   "outputs": [],
   "source": [
    "def if_police_car(final_result):\n",
    "    lst = []\n",
    "    prefix = final_result[0][-2:]  # Get the last two digits of the first element\n",
    "    for i in final_result[0][:-2]:\n",
    "        lst.append(i)\n",
    "    final_result = [\"\".join(lst), [prefix + final_result[1][0]], \"شرطة\"]\n",
    "    return final_result"
   ]
  },
  {
   "cell_type": "code",
   "execution_count": 19,
   "id": "d6414e7b",
   "metadata": {},
   "outputs": [],
   "source": [
    "def check_if_police_car(final_result):\n",
    "    if len(final_result[0]) == 6 and len(final_result[1]) == 1:\n",
    "        final_result = if_police_car(final_result)\n",
    "        return final_result\n",
    "    else:\n",
    "        return final_result"
   ]
  },
  {
   "cell_type": "code",
   "execution_count": 20,
   "id": "e86f5980",
   "metadata": {},
   "outputs": [],
   "source": [
    "digits_mapping = {\n",
    "        '1': '١',\n",
    "        '2': '٢',\n",
    "        '3': '٣',\n",
    "        '4': '٤',\n",
    "        '5': '٥',\n",
    "        '6': '٦',\n",
    "        '7': '٧',\n",
    "        '8': '٨',\n",
    "        '9': '٩'\n",
    "        }"
   ]
  },
  {
   "cell_type": "code",
   "execution_count": 21,
   "id": "4dea6f22",
   "metadata": {},
   "outputs": [],
   "source": [
    "def convert_digits(text):        \n",
    "    converted_text = \"\"\n",
    "    for char in text:\n",
    "        if char.isdigit():\n",
    "            converted_text += digits_mapping[char]\n",
    "        else:\n",
    "            converted_text += char\n",
    "    return converted_text"
   ]
  },
  {
   "cell_type": "code",
   "execution_count": 22,
   "id": "bc51aa48",
   "metadata": {},
   "outputs": [],
   "source": [
    "def convert_to_arabic_digits(final_result):\n",
    "    original_list = final_result\n",
    "    converted_list = []\n",
    "    for item in original_list:\n",
    "        if isinstance(item, str):\n",
    "            converted_list.append(convert_digits(item))\n",
    "        else:\n",
    "            converted_list.append([convert_digits(subitem) for subitem in item])\n",
    "    return converted_list"
   ]
  },
  {
   "cell_type": "code",
   "execution_count": 23,
   "id": "fa6dcca7",
   "metadata": {},
   "outputs": [],
   "source": [
    "def swap_elements(final_result):\n",
    "    final_result[0], final_result[1] = final_result[1], final_result[0]\n",
    "    return final_result"
   ]
  },
  {
   "cell_type": "code",
   "execution_count": 24,
   "id": "1b5d2475",
   "metadata": {},
   "outputs": [],
   "source": [
    "def check_if_police(final_result, final):\n",
    "    if len(final[0]) == 6 and len(final[1]) == 1:\n",
    "        final_result[0] = [if_police_move_character_to_beginning(final_result, item, 'ب') for item in final_result[0]]\n",
    "        return final_result\n",
    "    else:\n",
    "        return final_result"
   ]
  },
  {
   "cell_type": "code",
   "execution_count": 25,
   "id": "3d5a9a14",
   "metadata": {},
   "outputs": [],
   "source": [
    "def if_police_move_character_to_beginning(final_result, text, char):\n",
    "    # Remove the character from the original position\n",
    "    text = text.replace(char, '')\n",
    "\n",
    "    # Insert the character at the beginning\n",
    "    text = char + text\n",
    "\n",
    "    return text"
   ]
  },
  {
   "cell_type": "code",
   "execution_count": 26,
   "id": "2a8cc6e9",
   "metadata": {},
   "outputs": [],
   "source": [
    "def if_diplomatic_car(final_result):\n",
    "    final_result[2] = \"دبلوماسية\"\n",
    "    return final_result"
   ]
  },
  {
   "cell_type": "code",
   "execution_count": 27,
   "id": "89bd7086",
   "metadata": {},
   "outputs": [],
   "source": [
    "def check_if_diplomatic(final_result):\n",
    "    if len(final_result[0]) >= 5 and len(final_result[1]) == 0:\n",
    "        final_result = if_diplomatic_car(final_result)\n",
    "        return final_result\n",
    "    else:\n",
    "        return final_result"
   ]
  },
  {
   "cell_type": "code",
   "execution_count": 28,
   "id": "9a477685",
   "metadata": {},
   "outputs": [],
   "source": [
    "def return_final_result(exp_path, detection_model, images, cropped_img_dir, selected_img_dir, selected_images_dir, resized_img_dir):\n",
    "    res = if_folder_exists()\n",
    "    if res == \"1\":\n",
    "        save_cropped_img(cropped_img_dir, saved_img_dir)\n",
    "        select_img(saved_img_dir, selected_img_dir)\n",
    "        resize_img(selected_images_dir, resized_img_dir)\n",
    "        reversed_labels, reversed_boxes, class_names = reverse_labels_and_boxes(resized_img_dir)\n",
    "        model_result = return_model_result(reversed_labels, reversed_boxes, class_names)\n",
    "        matching_keys = return_sorted_plate_characters(reversed_labels, reversed_boxes, class_names, model_result)\n",
    "        matching_values = convert_plate_characters(matching_keys)\n",
    "        result_list = join_digits_and_sort_characters(matching_values)\n",
    "        governorate = get_governorate(result_list)\n",
    "        result = append_governorate_to_result_list(result_list, governorate)\n",
    "        final_result = check_if_police_car(result)\n",
    "        final_result = convert_to_arabic_digits(final_result)\n",
    "        final_result = swap_elements(final_result)\n",
    "        final_result = check_if_police(final_result, result)\n",
    "        return final_result\n",
    "    else:\n",
    "        return [[], '', 'أخرى']"
   ]
  },
  {
   "cell_type": "code",
   "execution_count": 29,
   "id": "5a84d934",
   "metadata": {},
   "outputs": [],
   "source": [
    "def apply_detection_model_and_save_results(model, images_path):\n",
    "    for img in os.listdir(images):\n",
    "        try:\n",
    "            img_path = os.path.join(images_path, img)\n",
    "            result = model(img_path)\n",
    "            #accuracy = result.xyxyn[0][:, -2].cpu().numpy()[0]\n",
    "            crops = result.crop(save=True)\n",
    "        except (OSError, cv2.error) as e:\n",
    "            print(f\"Error processing image {img}: {e}\")\n",
    "            continue"
   ]
  },
  {
   "cell_type": "code",
   "execution_count": 30,
   "id": "7e4f0676",
   "metadata": {},
   "outputs": [],
   "source": [
    "def return_final_result(exp_path, detection_model, images, cropped_img_dir, saved_img_dir, selected_img_dir, selected_images_dir, resized_img_dir):\n",
    "    delete_folder_or_file(exp_path)    \n",
    "    delete_folder_or_file(saved_img_dir)\n",
    "    delete_folder_or_file(selected_images_dir)\n",
    "    delete_folder_or_file(resized_img_dir)\n",
    "    apply_detection_model_and_save_results(detection_model, images)\n",
    "    res = if_folder_exists()\n",
    "    if res == \"1\":\n",
    "        save_cropped_img(cropped_img_dir, saved_img_dir)\n",
    "        select_img(saved_img_dir, selected_img_dir)\n",
    "        resize_img(selected_images_dir, resized_img_dir)\n",
    "        reversed_labels, reversed_boxes, class_names = reverse_labels_and_boxes(resized_img_dir)\n",
    "        model_result = return_model_result(reversed_labels, reversed_boxes, class_names)\n",
    "        matching_keys = return_sorted_plate_characters(reversed_labels, reversed_boxes, class_names, model_result)\n",
    "        matching_values = convert_plate_characters(matching_keys)\n",
    "        result_list = join_digits_and_sort_characters(matching_values)\n",
    "        governorate = get_governorate(result_list)\n",
    "        result = append_governorate_to_result_list(result_list, governorate)\n",
    "        final_result = check_if_police_car(result)\n",
    "        final_result = check_if_diplomatic(result)\n",
    "        final_result = convert_to_arabic_digits(final_result)\n",
    "        final_result = swap_elements(final_result)\n",
    "        final_result = check_if_police(final_result, result)\n",
    "        return final_result\n",
    "    else:\n",
    "        return [[], '', 'أخرى']"
   ]
  },
  {
   "cell_type": "code",
   "execution_count": 31,
   "id": "66bf99b0",
   "metadata": {},
   "outputs": [],
   "source": [
    "import matplotlib.pyplot as plt \n",
    "import matplotlib.image as mpimg"
   ]
  },
  {
   "cell_type": "code",
   "execution_count": 32,
   "id": "4d3658a2",
   "metadata": {},
   "outputs": [],
   "source": [
    "def show_image_and_final_result(images):\n",
    "    print(final_result)\n",
    "    for img in os.listdir(images):\n",
    "                img_path = images + \"\\\\\" + img\n",
    "    img = mpimg.imread(img_path)\n",
    "    imgplot = plt.imshow(img)\n",
    "    plt.show()\n",
    "    return"
   ]
  },
  {
   "cell_type": "code",
   "execution_count": 33,
   "id": "8be0a63a",
   "metadata": {},
   "outputs": [],
   "source": [
    "%matplotlib inline"
   ]
  },
  {
   "cell_type": "code",
   "execution_count": 34,
   "id": "a316f899",
   "metadata": {},
   "outputs": [],
   "source": [
    "def perform_object_detection(frame):\n",
    "    results = detection_model(frame)\n",
    "    crops = results.crop(save=True)\n",
    "    return results"
   ]
  },
  {
   "cell_type": "code",
   "execution_count": 35,
   "id": "81a0f421",
   "metadata": {},
   "outputs": [],
   "source": [
    "def return_final_result(exp_path, detection_model, images, cropped_img_dir, saved_img_dir, selected_images_dir, resized_img_dir):\n",
    "    #apply_detection_model_and_save_results(detection_model, images)\n",
    "    res = if_folder_exists()\n",
    "    if res == \"1\":\n",
    "        save_cropped_img(cropped_img_dir, saved_img_dir)\n",
    "        select_img(saved_img_dir, selected_img_dir)\n",
    "        resize_img(saved_img_dir, resized_img_dir)\n",
    "        reversed_labels, reversed_boxes, class_names = reverse_labels_and_boxes(resized_img_dir)\n",
    "        model_result = return_model_result(reversed_labels, reversed_boxes, class_names)\n",
    "        matching_keys = return_sorted_plate_characters(reversed_labels, reversed_boxes, class_names, model_result)\n",
    "        matching_values = convert_plate_characters(matching_keys)\n",
    "        result_list = join_digits_and_sort_characters(matching_values)\n",
    "        governorate = get_governorate(result_list)\n",
    "        result = append_governorate_to_result_list(result_list, governorate)\n",
    "        final_result = check_if_police_car(result)\n",
    "        final_result = convert_to_arabic_digits(final_result)\n",
    "        final_result = swap_elements(final_result)\n",
    "        final_result = check_if_police(final_result, result)\n",
    "        return final_result\n",
    "    else:\n",
    "        return [[], '', 'أخرى']"
   ]
  },
  {
   "cell_type": "code",
   "execution_count": 36,
   "id": "5ad0dc98",
   "metadata": {},
   "outputs": [],
   "source": [
    "def return_most_common_plates(temp_lst):\n",
    "    most_common_plates = []\n",
    "\n",
    "    # Custom serialization method\n",
    "    def serialize(obj):\n",
    "        if isinstance(obj, list):\n",
    "            return json.dumps(obj, ensure_ascii=False)\n",
    "        return obj\n",
    "\n",
    "    # Convert inner lists to strings for counting\n",
    "    string_list = [serialize(sublist) for sublist in temp_lst]\n",
    "\n",
    "    # Use Counter to count the occurrences of each string\n",
    "    string_counts = Counter(string_list)\n",
    "\n",
    "    # Get the 10 most common strings and their counts\n",
    "    most_common_strings = string_counts.most_common(1)\n",
    "\n",
    "    # Custom deserialization method\n",
    "    def deserialize(s):\n",
    "        try:\n",
    "            return json.loads(s)\n",
    "        except json.JSONDecodeError:\n",
    "            return s\n",
    "\n",
    "    # Convert strings back to lists for the final result\n",
    "    most_common_sublists = [(deserialize(element), count) for element, count in most_common_strings]\n",
    "\n",
    "    for sublist, count in most_common_sublists:\n",
    "        most_common_plates.append(sublist)\n",
    "    \n",
    "    return most_common_plates"
   ]
  },
  {
   "cell_type": "code",
   "execution_count": 37,
   "id": "32ec705f",
   "metadata": {},
   "outputs": [
    {
     "name": "stderr",
     "output_type": "stream",
     "text": [
      "Saved 1 image to \u001b[1mruns\\detect\\exp\u001b[0m\n",
      "Saved results to runs\\detect\\exp\n",
      "\n"
     ]
    },
    {
     "name": "stdout",
     "output_type": "stream",
     "text": [
      "[['ه', 'س', 'ع'], '٧٦٨', 'القاهرة']\n"
     ]
    },
    {
     "name": "stderr",
     "output_type": "stream",
     "text": [
      "Saved 1 image to \u001b[1mruns\\detect\\exp\u001b[0m\n",
      "Saved results to runs\\detect\\exp\n",
      "\n"
     ]
    },
    {
     "name": "stdout",
     "output_type": "stream",
     "text": [
      "[['ه', 'ص', 'س', 'ع'], '٧٦٨', 'أخرى']\n"
     ]
    },
    {
     "name": "stderr",
     "output_type": "stream",
     "text": [
      "Saved 1 image to \u001b[1mruns\\detect\\exp\u001b[0m\n",
      "Saved results to runs\\detect\\exp\n",
      "\n"
     ]
    },
    {
     "name": "stdout",
     "output_type": "stream",
     "text": [
      "[['ه', 'س', 'ع'], '٧٦٨', 'القاهرة']\n"
     ]
    },
    {
     "name": "stderr",
     "output_type": "stream",
     "text": [
      "Saved 1 image to \u001b[1mruns\\detect\\exp\u001b[0m\n",
      "Saved results to runs\\detect\\exp\n",
      "\n"
     ]
    },
    {
     "name": "stdout",
     "output_type": "stream",
     "text": [
      "[['ه', 'ص', 'ع'], '٧٦٨', 'القاهرة']\n"
     ]
    },
    {
     "name": "stderr",
     "output_type": "stream",
     "text": [
      "Saved 1 image to \u001b[1mruns\\detect\\exp\u001b[0m\n",
      "Saved results to runs\\detect\\exp\n",
      "\n"
     ]
    },
    {
     "name": "stdout",
     "output_type": "stream",
     "text": [
      "[['ه', 'ص', 'ع'], '٧٦٨', 'القاهرة']\n"
     ]
    },
    {
     "name": "stderr",
     "output_type": "stream",
     "text": [
      "Saved 1 image to \u001b[1mruns\\detect\\exp\u001b[0m\n",
      "Saved results to runs\\detect\\exp\n",
      "\n"
     ]
    },
    {
     "name": "stdout",
     "output_type": "stream",
     "text": [
      "[['ه', 'ص', 'ع'], '٧٦٨', 'القاهرة']\n"
     ]
    },
    {
     "name": "stderr",
     "output_type": "stream",
     "text": [
      "Saved 1 image to \u001b[1mruns\\detect\\exp\u001b[0m\n",
      "Saved results to runs\\detect\\exp\n",
      "\n"
     ]
    },
    {
     "name": "stdout",
     "output_type": "stream",
     "text": [
      "[['ه', 'ص', 'ع'], '٧٦٨', 'القاهرة']\n"
     ]
    },
    {
     "name": "stderr",
     "output_type": "stream",
     "text": [
      "Saved 1 image to \u001b[1mruns\\detect\\exp\u001b[0m\n",
      "Saved results to runs\\detect\\exp\n",
      "\n"
     ]
    },
    {
     "name": "stdout",
     "output_type": "stream",
     "text": [
      "[['ه', 'ص', 'ع'], '٧٦٨', 'القاهرة']\n"
     ]
    },
    {
     "name": "stderr",
     "output_type": "stream",
     "text": [
      "Saved 1 image to \u001b[1mruns\\detect\\exp\u001b[0m\n",
      "Saved results to runs\\detect\\exp\n",
      "\n"
     ]
    },
    {
     "name": "stdout",
     "output_type": "stream",
     "text": [
      "[['ه', 'ص', 'ع'], '٧٦٨', 'القاهرة']\n"
     ]
    },
    {
     "name": "stderr",
     "output_type": "stream",
     "text": [
      "Saved 1 image to \u001b[1mruns\\detect\\exp\u001b[0m\n",
      "Saved results to runs\\detect\\exp\n",
      "\n"
     ]
    },
    {
     "name": "stdout",
     "output_type": "stream",
     "text": [
      "[['ه', 'ص', 'ع'], '٧٦٨', 'القاهرة']\n"
     ]
    },
    {
     "name": "stderr",
     "output_type": "stream",
     "text": [
      "Saved 1 image to \u001b[1mruns\\detect\\exp\u001b[0m\n",
      "Saved results to runs\\detect\\exp\n",
      "\n"
     ]
    },
    {
     "name": "stdout",
     "output_type": "stream",
     "text": [
      "[['ه', 'ص', 'س', 'ع'], '٧٦٨', 'أخرى']\n"
     ]
    },
    {
     "name": "stderr",
     "output_type": "stream",
     "text": [
      "Saved 1 image to \u001b[1mruns\\detect\\exp\u001b[0m\n",
      "Saved results to runs\\detect\\exp\n",
      "\n"
     ]
    },
    {
     "name": "stdout",
     "output_type": "stream",
     "text": [
      "[['ه', 'ص', 'س', 'ع'], '٧٦٨', 'أخرى']\n"
     ]
    },
    {
     "name": "stderr",
     "output_type": "stream",
     "text": [
      "Saved 1 image to \u001b[1mruns\\detect\\exp\u001b[0m\n",
      "Saved results to runs\\detect\\exp\n",
      "\n"
     ]
    },
    {
     "name": "stdout",
     "output_type": "stream",
     "text": [
      "[['ه', 'ص', 'ج', 'ع'], '٧٦٨', 'أخرى']\n"
     ]
    },
    {
     "name": "stderr",
     "output_type": "stream",
     "text": [
      "Saved 1 image to \u001b[1mruns\\detect\\exp\u001b[0m\n",
      "Saved results to runs\\detect\\exp\n",
      "\n"
     ]
    },
    {
     "name": "stdout",
     "output_type": "stream",
     "text": [
      "[['ه', 'ص', 'ع', 'ج'], '٧٦٨', 'أخرى']\n"
     ]
    },
    {
     "name": "stderr",
     "output_type": "stream",
     "text": [
      "Saved 1 image to \u001b[1mruns\\detect\\exp\u001b[0m\n",
      "Saved results to runs\\detect\\exp\n",
      "\n"
     ]
    },
    {
     "name": "stdout",
     "output_type": "stream",
     "text": [
      "[['ه', 'ص', 'س', 'ع'], '٧٦٨', 'أخرى']\n"
     ]
    },
    {
     "name": "stderr",
     "output_type": "stream",
     "text": [
      "Saved 1 image to \u001b[1mruns\\detect\\exp\u001b[0m\n",
      "Saved results to runs\\detect\\exp\n",
      "\n"
     ]
    },
    {
     "name": "stdout",
     "output_type": "stream",
     "text": [
      "[['ه', 'ص', 'ع'], '٧٦٨', 'القاهرة']\n"
     ]
    },
    {
     "name": "stderr",
     "output_type": "stream",
     "text": [
      "Saved 1 image to \u001b[1mruns\\detect\\exp\u001b[0m\n",
      "Saved results to runs\\detect\\exp\n",
      "\n"
     ]
    },
    {
     "name": "stdout",
     "output_type": "stream",
     "text": [
      "[['ه', 'ص', 'ع'], '٧٦٨', 'القاهرة']\n"
     ]
    },
    {
     "name": "stderr",
     "output_type": "stream",
     "text": [
      "Saved 1 image to \u001b[1mruns\\detect\\exp\u001b[0m\n",
      "Saved results to runs\\detect\\exp\n",
      "\n"
     ]
    },
    {
     "name": "stdout",
     "output_type": "stream",
     "text": [
      "[['ه', 'ص', 'ع'], '٧٦٨', 'القاهرة']\n"
     ]
    },
    {
     "name": "stderr",
     "output_type": "stream",
     "text": [
      "Saved 1 image to \u001b[1mruns\\detect\\exp\u001b[0m\n",
      "Saved results to runs\\detect\\exp\n",
      "\n"
     ]
    },
    {
     "name": "stdout",
     "output_type": "stream",
     "text": [
      "[['ه', 'ص', 'س', 'ع'], '٧٦٨', 'أخرى']\n"
     ]
    },
    {
     "name": "stderr",
     "output_type": "stream",
     "text": [
      "Saved 1 image to \u001b[1mruns\\detect\\exp\u001b[0m\n",
      "Saved results to runs\\detect\\exp\n",
      "\n"
     ]
    },
    {
     "name": "stdout",
     "output_type": "stream",
     "text": [
      "[['ه', 'ص', 'ع'], '٧٦٨', 'القاهرة']\n"
     ]
    },
    {
     "name": "stderr",
     "output_type": "stream",
     "text": [
      "Saved 1 image to \u001b[1mruns\\detect\\exp\u001b[0m\n",
      "Saved results to runs\\detect\\exp\n",
      "\n"
     ]
    },
    {
     "name": "stdout",
     "output_type": "stream",
     "text": [
      "[['ه', 'ص', 'ع'], '٧٦٨', 'القاهرة']\n"
     ]
    },
    {
     "name": "stderr",
     "output_type": "stream",
     "text": [
      "Saved 1 image to \u001b[1mruns\\detect\\exp\u001b[0m\n",
      "Saved results to runs\\detect\\exp\n",
      "\n"
     ]
    },
    {
     "name": "stdout",
     "output_type": "stream",
     "text": [
      "[['ل', 'ي', 'ط'], '٤٦١', 'القاهرة']\n"
     ]
    },
    {
     "name": "stderr",
     "output_type": "stream",
     "text": [
      "Saved 1 image to \u001b[1mruns\\detect\\exp\u001b[0m\n",
      "Saved results to runs\\detect\\exp\n",
      "\n"
     ]
    },
    {
     "name": "stdout",
     "output_type": "stream",
     "text": [
      "[['ر', 'ل', 'ي', 'ط'], '٤٦١', 'أخرى']\n"
     ]
    },
    {
     "name": "stderr",
     "output_type": "stream",
     "text": [
      "Saved 1 image to \u001b[1mruns\\detect\\exp\u001b[0m\n",
      "Saved results to runs\\detect\\exp\n",
      "\n"
     ]
    },
    {
     "name": "stdout",
     "output_type": "stream",
     "text": [
      "[['ل', 'ي', 'ط'], '٤٦١', 'القاهرة']\n"
     ]
    },
    {
     "name": "stderr",
     "output_type": "stream",
     "text": [
      "Saved 1 image to \u001b[1mruns\\detect\\exp\u001b[0m\n",
      "Saved results to runs\\detect\\exp\n",
      "\n"
     ]
    },
    {
     "name": "stdout",
     "output_type": "stream",
     "text": [
      "[['ل', 'ي', 'ط'], '٤٦١', 'القاهرة']\n"
     ]
    },
    {
     "name": "stderr",
     "output_type": "stream",
     "text": [
      "Saved 1 image to \u001b[1mruns\\detect\\exp\u001b[0m\n",
      "Saved results to runs\\detect\\exp\n",
      "\n"
     ]
    },
    {
     "name": "stdout",
     "output_type": "stream",
     "text": [
      "[['ل', 'ي', 'ط'], '٤٦١', 'القاهرة']\n"
     ]
    },
    {
     "name": "stderr",
     "output_type": "stream",
     "text": [
      "Saved 1 image to \u001b[1mruns\\detect\\exp\u001b[0m\n",
      "Saved results to runs\\detect\\exp\n",
      "\n"
     ]
    },
    {
     "name": "stdout",
     "output_type": "stream",
     "text": [
      "[['ل', 'ي', 'ط'], '٤٦١', 'القاهرة']\n"
     ]
    },
    {
     "name": "stderr",
     "output_type": "stream",
     "text": [
      "Saved 1 image to \u001b[1mruns\\detect\\exp\u001b[0m\n",
      "Saved results to runs\\detect\\exp\n",
      "\n"
     ]
    },
    {
     "name": "stdout",
     "output_type": "stream",
     "text": [
      "[['ل', 'ي', 'ط'], '٤٦١', 'القاهرة']\n"
     ]
    },
    {
     "name": "stderr",
     "output_type": "stream",
     "text": [
      "Saved 1 image to \u001b[1mruns\\detect\\exp\u001b[0m\n",
      "Saved results to runs\\detect\\exp\n",
      "\n"
     ]
    },
    {
     "name": "stdout",
     "output_type": "stream",
     "text": [
      "[['ل', 'ي', 'ط'], '٤٦١', 'القاهرة']\n"
     ]
    },
    {
     "name": "stderr",
     "output_type": "stream",
     "text": [
      "Saved 1 image to \u001b[1mruns\\detect\\exp\u001b[0m\n",
      "Saved results to runs\\detect\\exp\n",
      "\n"
     ]
    },
    {
     "name": "stdout",
     "output_type": "stream",
     "text": [
      "[['ل', 'ي', 'ط'], '٤٦١', 'القاهرة']\n"
     ]
    },
    {
     "name": "stderr",
     "output_type": "stream",
     "text": [
      "Saved 1 image to \u001b[1mruns\\detect\\exp\u001b[0m\n",
      "Saved results to runs\\detect\\exp\n",
      "\n"
     ]
    },
    {
     "name": "stdout",
     "output_type": "stream",
     "text": [
      "[['ل', 'ي', 'ط'], '٤٦١', 'القاهرة']\n"
     ]
    },
    {
     "name": "stderr",
     "output_type": "stream",
     "text": [
      "Saved 1 image to \u001b[1mruns\\detect\\exp\u001b[0m\n",
      "Saved results to runs\\detect\\exp\n",
      "\n"
     ]
    },
    {
     "name": "stdout",
     "output_type": "stream",
     "text": [
      "[['ل', 'ي', 'ط'], '٤٦١', 'القاهرة']\n"
     ]
    },
    {
     "name": "stderr",
     "output_type": "stream",
     "text": [
      "Saved 1 image to \u001b[1mruns\\detect\\exp\u001b[0m\n",
      "Saved results to runs\\detect\\exp\n",
      "\n"
     ]
    },
    {
     "name": "stdout",
     "output_type": "stream",
     "text": [
      "[['ل', 'ي', 'ط'], '٤٦١', 'القاهرة']\n"
     ]
    },
    {
     "name": "stderr",
     "output_type": "stream",
     "text": [
      "Saved 1 image to \u001b[1mruns\\detect\\exp\u001b[0m\n",
      "Saved results to runs\\detect\\exp\n",
      "\n"
     ]
    },
    {
     "name": "stdout",
     "output_type": "stream",
     "text": [
      "[['ل', 'ي', 'ط'], '٤٦١', 'القاهرة']\n"
     ]
    },
    {
     "name": "stderr",
     "output_type": "stream",
     "text": [
      "Saved 1 image to \u001b[1mruns\\detect\\exp\u001b[0m\n",
      "Saved results to runs\\detect\\exp\n",
      "\n"
     ]
    },
    {
     "name": "stdout",
     "output_type": "stream",
     "text": [
      "[['ل', 'ي', 'ط'], '٤٦١', 'القاهرة']\n"
     ]
    },
    {
     "name": "stderr",
     "output_type": "stream",
     "text": [
      "Saved 1 image to \u001b[1mruns\\detect\\exp\u001b[0m\n",
      "Saved results to runs\\detect\\exp\n",
      "\n"
     ]
    },
    {
     "name": "stdout",
     "output_type": "stream",
     "text": [
      "[['ل', 'ي', 'ط'], '٤٦١', 'القاهرة']\n"
     ]
    },
    {
     "name": "stderr",
     "output_type": "stream",
     "text": [
      "Saved 1 image to \u001b[1mruns\\detect\\exp\u001b[0m\n",
      "Saved results to runs\\detect\\exp\n",
      "\n"
     ]
    },
    {
     "name": "stdout",
     "output_type": "stream",
     "text": [
      "[['ل', 'ي', 'ط'], '٤٦١', 'القاهرة']\n"
     ]
    },
    {
     "name": "stderr",
     "output_type": "stream",
     "text": [
      "Saved 1 image to \u001b[1mruns\\detect\\exp\u001b[0m\n",
      "Saved results to runs\\detect\\exp\n",
      "\n"
     ]
    },
    {
     "name": "stdout",
     "output_type": "stream",
     "text": [
      "[['ل', 'ي', 'ط'], '٤٦١', 'القاهرة']\n"
     ]
    },
    {
     "name": "stderr",
     "output_type": "stream",
     "text": [
      "Saved 1 image to \u001b[1mruns\\detect\\exp\u001b[0m\n",
      "Saved results to runs\\detect\\exp\n",
      "\n"
     ]
    },
    {
     "name": "stdout",
     "output_type": "stream",
     "text": [
      "[['ل', 'ي', 'ط'], '٤٦١', 'القاهرة']\n"
     ]
    },
    {
     "name": "stderr",
     "output_type": "stream",
     "text": [
      "Saved 1 image to \u001b[1mruns\\detect\\exp\u001b[0m\n",
      "Saved results to runs\\detect\\exp\n",
      "\n"
     ]
    },
    {
     "name": "stdout",
     "output_type": "stream",
     "text": [
      "[['ل', 'ي', 'ط'], '٤٦١', 'القاهرة']\n"
     ]
    },
    {
     "name": "stderr",
     "output_type": "stream",
     "text": [
      "Saved 1 image to \u001b[1mruns\\detect\\exp\u001b[0m\n",
      "Saved results to runs\\detect\\exp\n",
      "\n"
     ]
    },
    {
     "name": "stdout",
     "output_type": "stream",
     "text": [
      "[['ل', 'ي', 'ط'], '٤٦١', 'القاهرة']\n"
     ]
    },
    {
     "name": "stderr",
     "output_type": "stream",
     "text": [
      "Saved 1 image to \u001b[1mruns\\detect\\exp\u001b[0m\n",
      "Saved results to runs\\detect\\exp\n",
      "\n"
     ]
    },
    {
     "name": "stdout",
     "output_type": "stream",
     "text": [
      "[['ل', 'ي', 'ط'], '٤٦١', 'القاهرة']\n"
     ]
    },
    {
     "name": "stderr",
     "output_type": "stream",
     "text": [
      "Saved 1 image to \u001b[1mruns\\detect\\exp\u001b[0m\n",
      "Saved results to runs\\detect\\exp\n",
      "\n"
     ]
    },
    {
     "name": "stdout",
     "output_type": "stream",
     "text": [
      "[['أ', 'ن', 'و'], '٢٩١٨٢', 'أخرى']\n"
     ]
    },
    {
     "name": "stderr",
     "output_type": "stream",
     "text": [
      "Saved 1 image to \u001b[1mruns\\detect\\exp\u001b[0m\n",
      "Saved results to runs\\detect\\exp\n",
      "\n"
     ]
    },
    {
     "name": "stdout",
     "output_type": "stream",
     "text": [
      "[['ن', 'و'], '٢٩١٨', 'الجيزة']\n"
     ]
    },
    {
     "name": "stderr",
     "output_type": "stream",
     "text": [
      "Saved 1 image to \u001b[1mruns\\detect\\exp\u001b[0m\n",
      "Saved results to runs\\detect\\exp\n",
      "\n"
     ]
    },
    {
     "name": "stdout",
     "output_type": "stream",
     "text": [
      "[['ن', 'و'], '٢٩١٨', 'الجيزة']\n"
     ]
    },
    {
     "name": "stderr",
     "output_type": "stream",
     "text": [
      "Saved 1 image to \u001b[1mruns\\detect\\exp\u001b[0m\n",
      "Saved results to runs\\detect\\exp\n",
      "\n"
     ]
    },
    {
     "name": "stdout",
     "output_type": "stream",
     "text": [
      "[['ن', 'و'], '٢٩١٨', 'الجيزة']\n"
     ]
    },
    {
     "name": "stderr",
     "output_type": "stream",
     "text": [
      "Saved 1 image to \u001b[1mruns\\detect\\exp\u001b[0m\n",
      "Saved results to runs\\detect\\exp\n",
      "\n"
     ]
    },
    {
     "name": "stdout",
     "output_type": "stream",
     "text": [
      "[['ن', 'و'], '٢٩١٨', 'الجيزة']\n"
     ]
    },
    {
     "name": "stderr",
     "output_type": "stream",
     "text": [
      "Saved 1 image to \u001b[1mruns\\detect\\exp\u001b[0m\n",
      "Saved results to runs\\detect\\exp\n",
      "\n"
     ]
    },
    {
     "name": "stdout",
     "output_type": "stream",
     "text": [
      "[['ن', 'و'], '٢٩١٨', 'الجيزة']\n"
     ]
    },
    {
     "name": "stderr",
     "output_type": "stream",
     "text": [
      "Saved 1 image to \u001b[1mruns\\detect\\exp\u001b[0m\n",
      "Saved results to runs\\detect\\exp\n",
      "\n"
     ]
    },
    {
     "name": "stdout",
     "output_type": "stream",
     "text": [
      "[['ن', 'و'], '٢٩١٢٨', 'أخرى']\n"
     ]
    },
    {
     "name": "stderr",
     "output_type": "stream",
     "text": [
      "Saved 1 image to \u001b[1mruns\\detect\\exp\u001b[0m\n",
      "Saved results to runs\\detect\\exp\n",
      "\n"
     ]
    },
    {
     "name": "stdout",
     "output_type": "stream",
     "text": [
      "[['ن', 'و'], '٢٩١٨', 'الجيزة']\n"
     ]
    },
    {
     "name": "stderr",
     "output_type": "stream",
     "text": [
      "Saved 1 image to \u001b[1mruns\\detect\\exp\u001b[0m\n",
      "Saved results to runs\\detect\\exp\n",
      "\n"
     ]
    },
    {
     "name": "stdout",
     "output_type": "stream",
     "text": [
      "[['ن', 'و'], '٢٩١٨', 'الجيزة']\n"
     ]
    },
    {
     "name": "stderr",
     "output_type": "stream",
     "text": [
      "Saved 1 image to \u001b[1mruns\\detect\\exp\u001b[0m\n",
      "Saved results to runs\\detect\\exp\n",
      "\n"
     ]
    },
    {
     "name": "stdout",
     "output_type": "stream",
     "text": [
      "[['ن', 'و'], '٢٩١٨', 'الجيزة']\n"
     ]
    },
    {
     "name": "stderr",
     "output_type": "stream",
     "text": [
      "Saved 1 image to \u001b[1mruns\\detect\\exp\u001b[0m\n",
      "Saved results to runs\\detect\\exp\n",
      "\n"
     ]
    },
    {
     "name": "stdout",
     "output_type": "stream",
     "text": [
      "[['ن', 'و'], '٢٩١٨', 'الجيزة']\n"
     ]
    },
    {
     "name": "stderr",
     "output_type": "stream",
     "text": [
      "Saved 1 image to \u001b[1mruns\\detect\\exp\u001b[0m\n",
      "Saved results to runs\\detect\\exp\n",
      "\n"
     ]
    },
    {
     "name": "stdout",
     "output_type": "stream",
     "text": [
      "[['ن', 'و'], '٢٩١٨', 'الجيزة']\n"
     ]
    },
    {
     "name": "stderr",
     "output_type": "stream",
     "text": [
      "Saved 1 image to \u001b[1mruns\\detect\\exp\u001b[0m\n",
      "Saved results to runs\\detect\\exp\n",
      "\n"
     ]
    },
    {
     "name": "stdout",
     "output_type": "stream",
     "text": [
      "[['ن', 'و'], '٢٩١٨', 'الجيزة']\n"
     ]
    },
    {
     "name": "stderr",
     "output_type": "stream",
     "text": [
      "Saved 1 image to \u001b[1mruns\\detect\\exp\u001b[0m\n",
      "Saved results to runs\\detect\\exp\n",
      "\n"
     ]
    },
    {
     "name": "stdout",
     "output_type": "stream",
     "text": [
      "[['ن', 'و'], '٢٩١٨', 'الجيزة']\n"
     ]
    },
    {
     "name": "stderr",
     "output_type": "stream",
     "text": [
      "Saved 1 image to \u001b[1mruns\\detect\\exp\u001b[0m\n",
      "Saved results to runs\\detect\\exp\n",
      "\n"
     ]
    },
    {
     "name": "stdout",
     "output_type": "stream",
     "text": [
      "[['أ', 'ن', 'و'], '٢٩١٨', 'القاهرة']\n"
     ]
    },
    {
     "name": "stderr",
     "output_type": "stream",
     "text": [
      "Saved 1 image to \u001b[1mruns\\detect\\exp\u001b[0m\n",
      "Saved results to runs\\detect\\exp\n",
      "\n"
     ]
    },
    {
     "name": "stdout",
     "output_type": "stream",
     "text": [
      "[['ن', 'و'], '٢٩١٨', 'الجيزة']\n"
     ]
    },
    {
     "name": "stderr",
     "output_type": "stream",
     "text": [
      "Saved 1 image to \u001b[1mruns\\detect\\exp\u001b[0m\n",
      "Saved results to runs\\detect\\exp\n",
      "\n"
     ]
    },
    {
     "name": "stdout",
     "output_type": "stream",
     "text": [
      "[['ن', 'و'], '٢٩١٨', 'الجيزة']\n"
     ]
    },
    {
     "name": "stderr",
     "output_type": "stream",
     "text": [
      "Saved 1 image to \u001b[1mruns\\detect\\exp\u001b[0m\n",
      "Saved results to runs\\detect\\exp\n",
      "\n"
     ]
    },
    {
     "name": "stdout",
     "output_type": "stream",
     "text": [
      "[['ن', 'و'], '٢٩١٨', 'الجيزة']\n"
     ]
    },
    {
     "name": "stderr",
     "output_type": "stream",
     "text": [
      "Saved 1 image to \u001b[1mruns\\detect\\exp\u001b[0m\n",
      "Saved results to runs\\detect\\exp\n",
      "\n"
     ]
    },
    {
     "name": "stdout",
     "output_type": "stream",
     "text": [
      "[['ن', 'و'], '٢٩١٨', 'الجيزة']\n"
     ]
    },
    {
     "name": "stderr",
     "output_type": "stream",
     "text": [
      "Saved 1 image to \u001b[1mruns\\detect\\exp\u001b[0m\n",
      "Saved results to runs\\detect\\exp\n",
      "\n"
     ]
    },
    {
     "name": "stdout",
     "output_type": "stream",
     "text": [
      "[['ن', 'و'], '٢٩١٨', 'الجيزة']\n"
     ]
    },
    {
     "name": "stderr",
     "output_type": "stream",
     "text": [
      "Saved 1 image to \u001b[1mruns\\detect\\exp\u001b[0m\n",
      "Saved results to runs\\detect\\exp\n",
      "\n"
     ]
    },
    {
     "name": "stdout",
     "output_type": "stream",
     "text": [
      "[['ن', 'و'], '٢٩١٨', 'الجيزة']\n"
     ]
    },
    {
     "name": "stderr",
     "output_type": "stream",
     "text": [
      "Saved 1 image to \u001b[1mruns\\detect\\exp\u001b[0m\n",
      "Saved results to runs\\detect\\exp\n",
      "\n"
     ]
    },
    {
     "name": "stdout",
     "output_type": "stream",
     "text": [
      "[[], '١٩', 'أخرى']\n"
     ]
    },
    {
     "name": "stderr",
     "output_type": "stream",
     "text": [
      "Saved 1 image to \u001b[1mruns\\detect\\exp\u001b[0m\n",
      "Saved results to runs\\detect\\exp\n",
      "\n"
     ]
    },
    {
     "name": "stdout",
     "output_type": "stream",
     "text": [
      "[[], '', 'أخرى']\n"
     ]
    },
    {
     "name": "stderr",
     "output_type": "stream",
     "text": [
      "Saved 1 image to \u001b[1mruns\\detect\\exp\u001b[0m\n",
      "Saved results to runs\\detect\\exp\n",
      "\n"
     ]
    },
    {
     "name": "stdout",
     "output_type": "stream",
     "text": [
      "[[], '١٩', 'أخرى']\n"
     ]
    },
    {
     "name": "stderr",
     "output_type": "stream",
     "text": [
      "Saved 1 image to \u001b[1mruns\\detect\\exp\u001b[0m\n",
      "Saved results to runs\\detect\\exp\n",
      "\n"
     ]
    },
    {
     "name": "stdout",
     "output_type": "stream",
     "text": [
      "[['د'], '١', 'أخرى']\n"
     ]
    },
    {
     "name": "stderr",
     "output_type": "stream",
     "text": [
      "Saved 1 image to \u001b[1mruns\\detect\\exp\u001b[0m\n",
      "Saved results to runs\\detect\\exp\n",
      "\n"
     ]
    },
    {
     "name": "stdout",
     "output_type": "stream",
     "text": [
      "[['د'], '١', 'أخرى']\n"
     ]
    },
    {
     "name": "stderr",
     "output_type": "stream",
     "text": [
      "Saved 1 image to \u001b[1mruns\\detect\\exp\u001b[0m\n",
      "Saved results to runs\\detect\\exp\n",
      "\n"
     ]
    },
    {
     "name": "stdout",
     "output_type": "stream",
     "text": [
      "[['د'], '١', 'أخرى']\n"
     ]
    },
    {
     "name": "stderr",
     "output_type": "stream",
     "text": [
      "Saved 1 image to \u001b[1mruns\\detect\\exp\u001b[0m\n",
      "Saved results to runs\\detect\\exp\n",
      "\n"
     ]
    },
    {
     "name": "stdout",
     "output_type": "stream",
     "text": [
      "[['د'], '١٥', 'أخرى']\n"
     ]
    },
    {
     "name": "stderr",
     "output_type": "stream",
     "text": [
      "Saved 1 image to \u001b[1mruns\\detect\\exp\u001b[0m\n",
      "Saved results to runs\\detect\\exp\n",
      "\n"
     ]
    },
    {
     "name": "stdout",
     "output_type": "stream",
     "text": [
      "[['ر'], '١٩', 'أخرى']\n"
     ]
    },
    {
     "name": "stderr",
     "output_type": "stream",
     "text": [
      "Saved 1 image to \u001b[1mruns\\detect\\exp\u001b[0m\n",
      "Saved results to runs\\detect\\exp\n",
      "\n"
     ]
    },
    {
     "name": "stdout",
     "output_type": "stream",
     "text": [
      "[['د', 'ر'], '١٥٦', 'أخرى']\n"
     ]
    },
    {
     "name": "stderr",
     "output_type": "stream",
     "text": [
      "Saved 1 image to \u001b[1mruns\\detect\\exp\u001b[0m\n",
      "Saved results to runs\\detect\\exp\n",
      "\n"
     ]
    },
    {
     "name": "stdout",
     "output_type": "stream",
     "text": [
      "[['د', 'ر'], '١٥٦', 'أخرى']\n"
     ]
    },
    {
     "name": "stderr",
     "output_type": "stream",
     "text": [
      "Saved 1 image to \u001b[1mruns\\detect\\exp\u001b[0m\n",
      "Saved results to runs\\detect\\exp\n",
      "\n"
     ]
    },
    {
     "name": "stdout",
     "output_type": "stream",
     "text": [
      "[['د', 'ر'], '١٥٦', 'أخرى']\n"
     ]
    },
    {
     "name": "stderr",
     "output_type": "stream",
     "text": [
      "Saved 1 image to \u001b[1mruns\\detect\\exp\u001b[0m\n",
      "Saved results to runs\\detect\\exp\n",
      "\n"
     ]
    },
    {
     "name": "stdout",
     "output_type": "stream",
     "text": [
      "[['د', 'ر'], '١٥٦', 'أخرى']\n"
     ]
    },
    {
     "name": "stderr",
     "output_type": "stream",
     "text": [
      "Saved 1 image to \u001b[1mruns\\detect\\exp\u001b[0m\n",
      "Saved results to runs\\detect\\exp\n",
      "\n"
     ]
    },
    {
     "name": "stdout",
     "output_type": "stream",
     "text": [
      "[['د', 'ر'], '١٥', 'أخرى']\n"
     ]
    },
    {
     "name": "stderr",
     "output_type": "stream",
     "text": [
      "Saved 1 image to \u001b[1mruns\\detect\\exp\u001b[0m\n",
      "Saved results to runs\\detect\\exp\n",
      "\n"
     ]
    },
    {
     "name": "stdout",
     "output_type": "stream",
     "text": [
      "[['د', 'ر'], '١٥', 'أخرى']\n"
     ]
    },
    {
     "name": "stderr",
     "output_type": "stream",
     "text": [
      "Saved 1 image to \u001b[1mruns\\detect\\exp\u001b[0m\n",
      "Saved results to runs\\detect\\exp\n",
      "\n"
     ]
    },
    {
     "name": "stdout",
     "output_type": "stream",
     "text": [
      "[['د', 'ر'], '١٥٦٦', 'الجيزة']\n"
     ]
    },
    {
     "name": "stderr",
     "output_type": "stream",
     "text": [
      "Saved 1 image to \u001b[1mruns\\detect\\exp\u001b[0m\n",
      "Saved results to runs\\detect\\exp\n",
      "\n"
     ]
    },
    {
     "name": "stdout",
     "output_type": "stream",
     "text": [
      "[['د', 'ر'], '١٥٦٣', 'الجيزة']\n"
     ]
    },
    {
     "name": "stderr",
     "output_type": "stream",
     "text": [
      "Saved 1 image to \u001b[1mruns\\detect\\exp\u001b[0m\n",
      "Saved results to runs\\detect\\exp\n",
      "\n"
     ]
    },
    {
     "name": "stdout",
     "output_type": "stream",
     "text": [
      "[['د', 'ر'], '١٥٦٣', 'الجيزة']\n"
     ]
    },
    {
     "name": "stderr",
     "output_type": "stream",
     "text": [
      "Saved 1 image to \u001b[1mruns\\detect\\exp\u001b[0m\n",
      "Saved results to runs\\detect\\exp\n",
      "\n"
     ]
    },
    {
     "name": "stdout",
     "output_type": "stream",
     "text": [
      "[['د', 'ر'], '١٥٦٣', 'الجيزة']\n"
     ]
    },
    {
     "name": "stderr",
     "output_type": "stream",
     "text": [
      "Saved 1 image to \u001b[1mruns\\detect\\exp\u001b[0m\n",
      "Saved results to runs\\detect\\exp\n",
      "\n"
     ]
    },
    {
     "name": "stdout",
     "output_type": "stream",
     "text": [
      "[['د', 'ر'], '١٥٦٣', 'الجيزة']\n"
     ]
    },
    {
     "name": "stderr",
     "output_type": "stream",
     "text": [
      "Saved 1 image to \u001b[1mruns\\detect\\exp\u001b[0m\n",
      "Saved results to runs\\detect\\exp\n",
      "\n"
     ]
    },
    {
     "name": "stdout",
     "output_type": "stream",
     "text": [
      "[['د', 'ر'], '١٥٦٣', 'الجيزة']\n"
     ]
    },
    {
     "name": "stderr",
     "output_type": "stream",
     "text": [
      "Saved 1 image to \u001b[1mruns\\detect\\exp\u001b[0m\n",
      "Saved results to runs\\detect\\exp\n",
      "\n"
     ]
    },
    {
     "name": "stdout",
     "output_type": "stream",
     "text": [
      "[['د', 'ر'], '١٥٦', 'أخرى']\n"
     ]
    },
    {
     "name": "stderr",
     "output_type": "stream",
     "text": [
      "Saved 1 image to \u001b[1mruns\\detect\\exp\u001b[0m\n",
      "Saved results to runs\\detect\\exp\n",
      "\n"
     ]
    },
    {
     "name": "stdout",
     "output_type": "stream",
     "text": [
      "[['د', 'ر'], '١٥٦٣', 'الجيزة']\n"
     ]
    },
    {
     "name": "stderr",
     "output_type": "stream",
     "text": [
      "Saved 1 image to \u001b[1mruns\\detect\\exp\u001b[0m\n",
      "Saved results to runs\\detect\\exp\n",
      "\n"
     ]
    },
    {
     "name": "stdout",
     "output_type": "stream",
     "text": [
      "[['د', 'ر'], '١٥٦٣', 'الجيزة']\n"
     ]
    },
    {
     "name": "stderr",
     "output_type": "stream",
     "text": [
      "Saved 1 image to \u001b[1mruns\\detect\\exp\u001b[0m\n",
      "Saved results to runs\\detect\\exp\n",
      "\n"
     ]
    },
    {
     "name": "stdout",
     "output_type": "stream",
     "text": [
      "[['د'], '١٥٦٣', 'أخرى']\n"
     ]
    },
    {
     "name": "stderr",
     "output_type": "stream",
     "text": [
      "Saved 1 image to \u001b[1mruns\\detect\\exp\u001b[0m\n",
      "Saved results to runs\\detect\\exp\n",
      "\n"
     ]
    },
    {
     "name": "stdout",
     "output_type": "stream",
     "text": [
      "[['د', 'ر'], '١٥٦٣٦', 'أخرى']\n"
     ]
    },
    {
     "name": "stderr",
     "output_type": "stream",
     "text": [
      "Saved 1 image to \u001b[1mruns\\detect\\exp\u001b[0m\n",
      "Saved results to runs\\detect\\exp\n",
      "\n"
     ]
    },
    {
     "name": "stdout",
     "output_type": "stream",
     "text": [
      "[['د', 'ر'], '٥٦', 'أخرى']\n"
     ]
    },
    {
     "name": "stderr",
     "output_type": "stream",
     "text": [
      "Saved 1 image to \u001b[1mruns\\detect\\exp\u001b[0m\n",
      "Saved results to runs\\detect\\exp\n",
      "\n"
     ]
    },
    {
     "name": "stdout",
     "output_type": "stream",
     "text": [
      "[['د', 'ر'], '٥٦٣', 'أخرى']\n"
     ]
    },
    {
     "name": "stderr",
     "output_type": "stream",
     "text": [
      "Saved 1 image to \u001b[1mruns\\detect\\exp\u001b[0m\n",
      "Saved results to runs\\detect\\exp\n",
      "\n"
     ]
    },
    {
     "name": "stdout",
     "output_type": "stream",
     "text": [
      "[['د', 'ر'], '١٥٣', 'أخرى']\n"
     ]
    },
    {
     "name": "stderr",
     "output_type": "stream",
     "text": [
      "Saved 1 image to \u001b[1mruns\\detect\\exp\u001b[0m\n",
      "Saved results to runs\\detect\\exp\n",
      "\n"
     ]
    },
    {
     "name": "stdout",
     "output_type": "stream",
     "text": [
      "[['د', 'ر'], '١٥٦٣', 'الجيزة']\n"
     ]
    },
    {
     "name": "stderr",
     "output_type": "stream",
     "text": [
      "Saved 1 image to \u001b[1mruns\\detect\\exp\u001b[0m\n",
      "Saved results to runs\\detect\\exp\n",
      "\n"
     ]
    },
    {
     "name": "stdout",
     "output_type": "stream",
     "text": [
      "[['د', 'ر'], '١٥٦٣', 'الجيزة']\n"
     ]
    },
    {
     "name": "stderr",
     "output_type": "stream",
     "text": [
      "Saved 1 image to \u001b[1mruns\\detect\\exp\u001b[0m\n",
      "Saved results to runs\\detect\\exp\n",
      "\n"
     ]
    },
    {
     "name": "stdout",
     "output_type": "stream",
     "text": [
      "[['د', 'ر'], '١٥٦٣', 'الجيزة']\n"
     ]
    },
    {
     "name": "stderr",
     "output_type": "stream",
     "text": [
      "Saved 1 image to \u001b[1mruns\\detect\\exp\u001b[0m\n",
      "Saved results to runs\\detect\\exp\n",
      "\n"
     ]
    },
    {
     "name": "stdout",
     "output_type": "stream",
     "text": [
      "[['أ', 'ي', 'ص'], '٧٣٥٩', 'القاهرة']\n"
     ]
    },
    {
     "name": "stderr",
     "output_type": "stream",
     "text": [
      "Saved 1 image to \u001b[1mruns\\detect\\exp\u001b[0m\n",
      "Saved results to runs\\detect\\exp\n",
      "\n"
     ]
    },
    {
     "name": "stdout",
     "output_type": "stream",
     "text": [
      "[['أ', 'ي', 'ص'], '٧٣٥٩', 'القاهرة']\n"
     ]
    },
    {
     "name": "stderr",
     "output_type": "stream",
     "text": [
      "Saved 1 image to \u001b[1mruns\\detect\\exp\u001b[0m\n",
      "Saved results to runs\\detect\\exp\n",
      "\n"
     ]
    },
    {
     "name": "stdout",
     "output_type": "stream",
     "text": [
      "[['أ', 'ي', 'ص'], '٧٣٥٥٩', 'أخرى']\n"
     ]
    },
    {
     "name": "stderr",
     "output_type": "stream",
     "text": [
      "Saved 1 image to \u001b[1mruns\\detect\\exp\u001b[0m\n",
      "Saved results to runs\\detect\\exp\n",
      "\n"
     ]
    },
    {
     "name": "stdout",
     "output_type": "stream",
     "text": [
      "[['أ', 'ي', 'ص'], '٧٣٥٩', 'القاهرة']\n"
     ]
    },
    {
     "name": "stderr",
     "output_type": "stream",
     "text": [
      "Saved 1 image to \u001b[1mruns\\detect\\exp\u001b[0m\n",
      "Saved results to runs\\detect\\exp\n",
      "\n"
     ]
    },
    {
     "name": "stdout",
     "output_type": "stream",
     "text": [
      "[['أ', 'ي', 'ص'], '٧٣٥٩', 'القاهرة']\n"
     ]
    },
    {
     "name": "stderr",
     "output_type": "stream",
     "text": [
      "Saved 1 image to \u001b[1mruns\\detect\\exp\u001b[0m\n",
      "Saved results to runs\\detect\\exp\n",
      "\n"
     ]
    },
    {
     "name": "stdout",
     "output_type": "stream",
     "text": [
      "[['أ', 'ي', 'ص'], '٧٣٥٩', 'القاهرة']\n"
     ]
    },
    {
     "name": "stderr",
     "output_type": "stream",
     "text": [
      "Saved 1 image to \u001b[1mruns\\detect\\exp\u001b[0m\n",
      "Saved results to runs\\detect\\exp\n",
      "\n"
     ]
    },
    {
     "name": "stdout",
     "output_type": "stream",
     "text": [
      "[['أ', 'ي', 'ص'], '٧٣٥٩', 'القاهرة']\n"
     ]
    },
    {
     "name": "stderr",
     "output_type": "stream",
     "text": [
      "Saved 1 image to \u001b[1mruns\\detect\\exp\u001b[0m\n",
      "Saved results to runs\\detect\\exp\n",
      "\n"
     ]
    },
    {
     "name": "stdout",
     "output_type": "stream",
     "text": [
      "[['أ', 'ي', 'ص'], '٧٣٥٩', 'القاهرة']\n"
     ]
    },
    {
     "name": "stderr",
     "output_type": "stream",
     "text": [
      "Saved 1 image to \u001b[1mruns\\detect\\exp\u001b[0m\n",
      "Saved results to runs\\detect\\exp\n",
      "\n"
     ]
    },
    {
     "name": "stdout",
     "output_type": "stream",
     "text": [
      "[['أ', 'ي', 'ص'], '٧٣٥٩', 'القاهرة']\n"
     ]
    },
    {
     "name": "stderr",
     "output_type": "stream",
     "text": [
      "Saved 1 image to \u001b[1mruns\\detect\\exp\u001b[0m\n",
      "Saved results to runs\\detect\\exp\n",
      "\n"
     ]
    },
    {
     "name": "stdout",
     "output_type": "stream",
     "text": [
      "[['أ', 'ي', 'ص'], '٧٣٥٩', 'القاهرة']\n"
     ]
    },
    {
     "name": "stderr",
     "output_type": "stream",
     "text": [
      "Saved 1 image to \u001b[1mruns\\detect\\exp\u001b[0m\n",
      "Saved results to runs\\detect\\exp\n",
      "\n"
     ]
    },
    {
     "name": "stdout",
     "output_type": "stream",
     "text": [
      "[['أ', 'ي', 'ص'], '٧٣٥٩', 'القاهرة']\n"
     ]
    },
    {
     "name": "stderr",
     "output_type": "stream",
     "text": [
      "Saved 1 image to \u001b[1mruns\\detect\\exp\u001b[0m\n",
      "Saved results to runs\\detect\\exp\n",
      "\n"
     ]
    },
    {
     "name": "stdout",
     "output_type": "stream",
     "text": [
      "[['أ', 'ي', 'ص'], '٧٣٥٩', 'القاهرة']\n"
     ]
    },
    {
     "name": "stderr",
     "output_type": "stream",
     "text": [
      "Saved 1 image to \u001b[1mruns\\detect\\exp\u001b[0m\n",
      "Saved results to runs\\detect\\exp\n",
      "\n"
     ]
    },
    {
     "name": "stdout",
     "output_type": "stream",
     "text": [
      "[['أ', 'ي', 'ص'], '٧٣٥٩', 'القاهرة']\n"
     ]
    },
    {
     "name": "stderr",
     "output_type": "stream",
     "text": [
      "Saved 1 image to \u001b[1mruns\\detect\\exp\u001b[0m\n",
      "Saved results to runs\\detect\\exp\n",
      "\n"
     ]
    },
    {
     "name": "stdout",
     "output_type": "stream",
     "text": [
      "[['أ', 'ي', 'ص'], '٧٣٥٩', 'القاهرة']\n"
     ]
    },
    {
     "name": "stderr",
     "output_type": "stream",
     "text": [
      "Saved 1 image to \u001b[1mruns\\detect\\exp\u001b[0m\n",
      "Saved results to runs\\detect\\exp\n",
      "\n"
     ]
    },
    {
     "name": "stdout",
     "output_type": "stream",
     "text": [
      "[['أ', 'ي', 'ص'], '٧٣٥٩', 'القاهرة']\n"
     ]
    },
    {
     "name": "stderr",
     "output_type": "stream",
     "text": [
      "Saved 1 image to \u001b[1mruns\\detect\\exp\u001b[0m\n",
      "Saved results to runs\\detect\\exp\n",
      "\n"
     ]
    },
    {
     "name": "stdout",
     "output_type": "stream",
     "text": [
      "[['أ', 'ي', 'ص'], '٧٣٥٩', 'القاهرة']\n"
     ]
    },
    {
     "name": "stderr",
     "output_type": "stream",
     "text": [
      "Saved 1 image to \u001b[1mruns\\detect\\exp\u001b[0m\n",
      "Saved results to runs\\detect\\exp\n",
      "\n"
     ]
    },
    {
     "name": "stdout",
     "output_type": "stream",
     "text": [
      "[['أ', 'ي', 'ص'], '٧٣٥٩', 'القاهرة']\n"
     ]
    },
    {
     "name": "stderr",
     "output_type": "stream",
     "text": [
      "Saved 1 image to \u001b[1mruns\\detect\\exp\u001b[0m\n",
      "Saved results to runs\\detect\\exp\n",
      "\n"
     ]
    },
    {
     "name": "stdout",
     "output_type": "stream",
     "text": [
      "[['أ', 'ي', 'ص'], '٧٣٥٩', 'القاهرة']\n"
     ]
    },
    {
     "name": "stderr",
     "output_type": "stream",
     "text": [
      "Saved 1 image to \u001b[1mruns\\detect\\exp\u001b[0m\n",
      "Saved results to runs\\detect\\exp\n",
      "\n"
     ]
    },
    {
     "name": "stdout",
     "output_type": "stream",
     "text": [
      "[['أ', 'ي', 'ص'], '٧٣٥٩', 'القاهرة']\n"
     ]
    },
    {
     "name": "stderr",
     "output_type": "stream",
     "text": [
      "Saved 1 image to \u001b[1mruns\\detect\\exp\u001b[0m\n",
      "Saved results to runs\\detect\\exp\n",
      "\n"
     ]
    },
    {
     "name": "stdout",
     "output_type": "stream",
     "text": [
      "[['أ', 'ي', 'ص'], '٧٣٥٩', 'القاهرة']\n"
     ]
    },
    {
     "name": "stderr",
     "output_type": "stream",
     "text": [
      "Saved 1 image to \u001b[1mruns\\detect\\exp\u001b[0m\n",
      "Saved results to runs\\detect\\exp\n",
      "\n"
     ]
    },
    {
     "name": "stdout",
     "output_type": "stream",
     "text": [
      "[['ه', 'و', 'ف'], '٩٥٧', 'القاهرة']\n"
     ]
    },
    {
     "name": "stderr",
     "output_type": "stream",
     "text": [
      "Saved 1 image to \u001b[1mruns\\detect\\exp\u001b[0m\n",
      "Saved results to runs\\detect\\exp\n",
      "\n"
     ]
    },
    {
     "name": "stdout",
     "output_type": "stream",
     "text": [
      "[['ه', 'و', 'ف'], '٩٥٥٧', 'سوهاج']\n"
     ]
    },
    {
     "name": "stderr",
     "output_type": "stream",
     "text": [
      "Saved 1 image to \u001b[1mruns\\detect\\exp\u001b[0m\n",
      "Saved results to runs\\detect\\exp\n",
      "\n"
     ]
    },
    {
     "name": "stdout",
     "output_type": "stream",
     "text": [
      "[['ه', 'و', 'ف'], '٩٥٧', 'القاهرة']\n"
     ]
    },
    {
     "name": "stderr",
     "output_type": "stream",
     "text": [
      "Saved 1 image to \u001b[1mruns\\detect\\exp\u001b[0m\n",
      "Saved results to runs\\detect\\exp\n",
      "\n"
     ]
    },
    {
     "name": "stdout",
     "output_type": "stream",
     "text": [
      "[['ه', 'و', 'ف'], '٩٥٧', 'القاهرة']\n"
     ]
    },
    {
     "name": "stderr",
     "output_type": "stream",
     "text": [
      "Saved 1 image to \u001b[1mruns\\detect\\exp\u001b[0m\n",
      "Saved results to runs\\detect\\exp\n",
      "\n"
     ]
    },
    {
     "name": "stdout",
     "output_type": "stream",
     "text": [
      "[['ه', 'و', 'ف'], '٩٥٧', 'القاهرة']\n"
     ]
    },
    {
     "name": "stderr",
     "output_type": "stream",
     "text": [
      "Saved 1 image to \u001b[1mruns\\detect\\exp\u001b[0m\n",
      "Saved results to runs\\detect\\exp\n",
      "\n"
     ]
    },
    {
     "name": "stdout",
     "output_type": "stream",
     "text": [
      "[['ه', 'و', 'ف'], '٩٥٧', 'القاهرة']\n"
     ]
    },
    {
     "name": "stderr",
     "output_type": "stream",
     "text": [
      "Saved 1 image to \u001b[1mruns\\detect\\exp\u001b[0m\n",
      "Saved results to runs\\detect\\exp\n",
      "\n"
     ]
    },
    {
     "name": "stdout",
     "output_type": "stream",
     "text": [
      "[['ه', 'و', 'ف'], '٩٥٧', 'القاهرة']\n"
     ]
    },
    {
     "name": "stderr",
     "output_type": "stream",
     "text": [
      "Saved 1 image to \u001b[1mruns\\detect\\exp\u001b[0m\n",
      "Saved results to runs\\detect\\exp\n",
      "\n"
     ]
    },
    {
     "name": "stdout",
     "output_type": "stream",
     "text": [
      "[['ه', 'و', 'ف'], '٩٥٧', 'القاهرة']\n"
     ]
    },
    {
     "name": "stderr",
     "output_type": "stream",
     "text": [
      "Saved 1 image to \u001b[1mruns\\detect\\exp\u001b[0m\n",
      "Saved results to runs\\detect\\exp\n",
      "\n"
     ]
    },
    {
     "name": "stdout",
     "output_type": "stream",
     "text": [
      "[['ه', 'و', 'ف'], '٩٥٧', 'القاهرة']\n"
     ]
    },
    {
     "name": "stderr",
     "output_type": "stream",
     "text": [
      "Saved 1 image to \u001b[1mruns\\detect\\exp\u001b[0m\n",
      "Saved results to runs\\detect\\exp\n",
      "\n"
     ]
    },
    {
     "name": "stdout",
     "output_type": "stream",
     "text": [
      "[['ه', 'و', 'ف'], '٩٥٧', 'القاهرة']\n"
     ]
    },
    {
     "name": "stderr",
     "output_type": "stream",
     "text": [
      "Saved 1 image to \u001b[1mruns\\detect\\exp\u001b[0m\n",
      "Saved results to runs\\detect\\exp\n",
      "\n"
     ]
    },
    {
     "name": "stdout",
     "output_type": "stream",
     "text": [
      "[['ه', 'و', 'ف'], '٩٥٧', 'القاهرة']\n"
     ]
    },
    {
     "name": "stderr",
     "output_type": "stream",
     "text": [
      "Saved 1 image to \u001b[1mruns\\detect\\exp\u001b[0m\n",
      "Saved results to runs\\detect\\exp\n",
      "\n"
     ]
    },
    {
     "name": "stdout",
     "output_type": "stream",
     "text": [
      "[['ه', 'و', 'ف'], '٩٥٧', 'القاهرة']\n"
     ]
    },
    {
     "name": "stderr",
     "output_type": "stream",
     "text": [
      "Saved 1 image to \u001b[1mruns\\detect\\exp\u001b[0m\n",
      "Saved results to runs\\detect\\exp\n",
      "\n"
     ]
    },
    {
     "name": "stdout",
     "output_type": "stream",
     "text": [
      "[['ه', 'و', 'ف'], '٩٥٧', 'القاهرة']\n"
     ]
    },
    {
     "name": "stderr",
     "output_type": "stream",
     "text": [
      "Saved 1 image to \u001b[1mruns\\detect\\exp\u001b[0m\n",
      "Saved results to runs\\detect\\exp\n",
      "\n"
     ]
    },
    {
     "name": "stdout",
     "output_type": "stream",
     "text": [
      "[[], '', 'أخرى']\n"
     ]
    },
    {
     "name": "stderr",
     "output_type": "stream",
     "text": [
      "Saved 1 image to \u001b[1mruns\\detect\\exp\u001b[0m\n",
      "Saved results to runs\\detect\\exp\n",
      "\n"
     ]
    },
    {
     "name": "stdout",
     "output_type": "stream",
     "text": [
      "[['ه', 'و', 'ف'], '٩٥٧', 'القاهرة']\n"
     ]
    },
    {
     "name": "stderr",
     "output_type": "stream",
     "text": [
      "Saved 1 image to \u001b[1mruns\\detect\\exp\u001b[0m\n",
      "Saved results to runs\\detect\\exp\n",
      "\n"
     ]
    },
    {
     "name": "stdout",
     "output_type": "stream",
     "text": [
      "[['ه', 'و', 'ف'], '٩٥٧', 'القاهرة']\n"
     ]
    },
    {
     "name": "stderr",
     "output_type": "stream",
     "text": [
      "Saved 1 image to \u001b[1mruns\\detect\\exp\u001b[0m\n",
      "Saved results to runs\\detect\\exp\n",
      "\n"
     ]
    },
    {
     "name": "stdout",
     "output_type": "stream",
     "text": [
      "[['ه', 'و', 'ف'], '٩٥٧', 'القاهرة']\n"
     ]
    },
    {
     "name": "stderr",
     "output_type": "stream",
     "text": [
      "Saved 1 image to \u001b[1mruns\\detect\\exp\u001b[0m\n",
      "Saved results to runs\\detect\\exp\n",
      "\n"
     ]
    },
    {
     "name": "stdout",
     "output_type": "stream",
     "text": [
      "[['ه', 'و', 'ف'], '٩٥٧', 'القاهرة']\n"
     ]
    },
    {
     "name": "stderr",
     "output_type": "stream",
     "text": [
      "Saved 1 image to \u001b[1mruns\\detect\\exp\u001b[0m\n",
      "Saved results to runs\\detect\\exp\n",
      "\n"
     ]
    },
    {
     "name": "stdout",
     "output_type": "stream",
     "text": [
      "[['ه', 'و', 'ف'], '٩٥٧', 'القاهرة']\n"
     ]
    },
    {
     "name": "stderr",
     "output_type": "stream",
     "text": [
      "Saved 1 image to \u001b[1mruns\\detect\\exp\u001b[0m\n",
      "Saved results to runs\\detect\\exp\n",
      "\n"
     ]
    },
    {
     "name": "stdout",
     "output_type": "stream",
     "text": [
      "[['ه', 'و', 'ف'], '٩٥٧', 'القاهرة']\n"
     ]
    },
    {
     "name": "stderr",
     "output_type": "stream",
     "text": [
      "Saved 1 image to \u001b[1mruns\\detect\\exp\u001b[0m\n",
      "Saved results to runs\\detect\\exp\n",
      "\n"
     ]
    },
    {
     "name": "stdout",
     "output_type": "stream",
     "text": [
      "[['ه', 'و', 'ف'], '٩٥٧', 'القاهرة']\n"
     ]
    },
    {
     "name": "stderr",
     "output_type": "stream",
     "text": [
      "Saved 1 image to \u001b[1mruns\\detect\\exp\u001b[0m\n",
      "Saved results to runs\\detect\\exp\n",
      "\n"
     ]
    },
    {
     "name": "stdout",
     "output_type": "stream",
     "text": [
      "[['ب', 'ع', 'ط'], '٦٨٢', 'القاهرة']\n"
     ]
    },
    {
     "name": "stderr",
     "output_type": "stream",
     "text": [
      "Saved 1 image to \u001b[1mruns\\detect\\exp\u001b[0m\n",
      "Saved results to runs\\detect\\exp\n",
      "\n"
     ]
    },
    {
     "name": "stdout",
     "output_type": "stream",
     "text": [
      "[['ب', 'ع', 'ط'], '٦٨٢', 'القاهرة']\n"
     ]
    },
    {
     "name": "stderr",
     "output_type": "stream",
     "text": [
      "Saved 1 image to \u001b[1mruns\\detect\\exp\u001b[0m\n",
      "Saved results to runs\\detect\\exp\n",
      "\n"
     ]
    },
    {
     "name": "stdout",
     "output_type": "stream",
     "text": [
      "[['ب', 'ع', 'ط'], '٦٨٢', 'القاهرة']\n"
     ]
    },
    {
     "name": "stderr",
     "output_type": "stream",
     "text": [
      "Saved 1 image to \u001b[1mruns\\detect\\exp\u001b[0m\n",
      "Saved results to runs\\detect\\exp\n",
      "\n"
     ]
    },
    {
     "name": "stdout",
     "output_type": "stream",
     "text": [
      "[['ب', 'ع', 'ط'], '٦٨٢', 'القاهرة']\n"
     ]
    },
    {
     "name": "stderr",
     "output_type": "stream",
     "text": [
      "Saved 1 image to \u001b[1mruns\\detect\\exp\u001b[0m\n",
      "Saved results to runs\\detect\\exp\n",
      "\n"
     ]
    },
    {
     "name": "stdout",
     "output_type": "stream",
     "text": [
      "[['ب', 'ع', 'ط'], '٦٨٢', 'القاهرة']\n"
     ]
    },
    {
     "name": "stderr",
     "output_type": "stream",
     "text": [
      "Saved 1 image to \u001b[1mruns\\detect\\exp\u001b[0m\n",
      "Saved results to runs\\detect\\exp\n",
      "\n"
     ]
    },
    {
     "name": "stdout",
     "output_type": "stream",
     "text": [
      "[['ب', 'ع', 'ط'], '٦٨٢', 'القاهرة']\n"
     ]
    },
    {
     "name": "stderr",
     "output_type": "stream",
     "text": [
      "Saved 1 image to \u001b[1mruns\\detect\\exp\u001b[0m\n",
      "Saved results to runs\\detect\\exp\n",
      "\n"
     ]
    },
    {
     "name": "stdout",
     "output_type": "stream",
     "text": [
      "[['ب', 'ع', 'ط'], '٦٨٢', 'القاهرة']\n"
     ]
    },
    {
     "name": "stderr",
     "output_type": "stream",
     "text": [
      "Saved 1 image to \u001b[1mruns\\detect\\exp\u001b[0m\n",
      "Saved results to runs\\detect\\exp\n",
      "\n"
     ]
    },
    {
     "name": "stdout",
     "output_type": "stream",
     "text": [
      "[['ب', 'ع', 'ط'], '٦٨٢', 'القاهرة']\n"
     ]
    },
    {
     "name": "stderr",
     "output_type": "stream",
     "text": [
      "Saved 1 image to \u001b[1mruns\\detect\\exp\u001b[0m\n",
      "Saved results to runs\\detect\\exp\n",
      "\n"
     ]
    },
    {
     "name": "stdout",
     "output_type": "stream",
     "text": [
      "[['ب', 'ع', 'ط'], '٦٨٢', 'القاهرة']\n"
     ]
    },
    {
     "name": "stderr",
     "output_type": "stream",
     "text": [
      "Saved 1 image to \u001b[1mruns\\detect\\exp\u001b[0m\n",
      "Saved results to runs\\detect\\exp\n",
      "\n"
     ]
    },
    {
     "name": "stdout",
     "output_type": "stream",
     "text": [
      "[['ب', 'ع', 'ط'], '٦٨٢', 'القاهرة']\n"
     ]
    },
    {
     "name": "stderr",
     "output_type": "stream",
     "text": [
      "Saved 1 image to \u001b[1mruns\\detect\\exp\u001b[0m\n",
      "Saved results to runs\\detect\\exp\n",
      "\n"
     ]
    },
    {
     "name": "stdout",
     "output_type": "stream",
     "text": [
      "[['ب', 'ع', 'ط'], '٦٨٢', 'القاهرة']\n"
     ]
    },
    {
     "name": "stderr",
     "output_type": "stream",
     "text": [
      "Saved 1 image to \u001b[1mruns\\detect\\exp\u001b[0m\n",
      "Saved results to runs\\detect\\exp\n",
      "\n"
     ]
    },
    {
     "name": "stdout",
     "output_type": "stream",
     "text": [
      "[['ب', 'ع', 'ط'], '٦٨٢', 'القاهرة']\n"
     ]
    },
    {
     "name": "stderr",
     "output_type": "stream",
     "text": [
      "Saved 1 image to \u001b[1mruns\\detect\\exp\u001b[0m\n",
      "Saved results to runs\\detect\\exp\n",
      "\n"
     ]
    },
    {
     "name": "stdout",
     "output_type": "stream",
     "text": [
      "[['ب', 'ع', 'ط'], '٦٨٢', 'القاهرة']\n"
     ]
    },
    {
     "name": "stderr",
     "output_type": "stream",
     "text": [
      "Saved 1 image to \u001b[1mruns\\detect\\exp\u001b[0m\n",
      "Saved results to runs\\detect\\exp\n",
      "\n"
     ]
    },
    {
     "name": "stdout",
     "output_type": "stream",
     "text": [
      "[['ب', 'ع', 'ط'], '٦٨٢', 'القاهرة']\n"
     ]
    },
    {
     "name": "stderr",
     "output_type": "stream",
     "text": [
      "Saved 1 image to \u001b[1mruns\\detect\\exp\u001b[0m\n",
      "Saved results to runs\\detect\\exp\n",
      "\n"
     ]
    },
    {
     "name": "stdout",
     "output_type": "stream",
     "text": [
      "[['ب', 'ع', 'ط'], '٦٨٢', 'القاهرة']\n"
     ]
    },
    {
     "name": "stderr",
     "output_type": "stream",
     "text": [
      "Saved 1 image to \u001b[1mruns\\detect\\exp\u001b[0m\n",
      "Saved results to runs\\detect\\exp\n",
      "\n"
     ]
    },
    {
     "name": "stdout",
     "output_type": "stream",
     "text": [
      "[['ب', 'ع', 'ط'], '٦٨٢', 'القاهرة']\n"
     ]
    },
    {
     "name": "stderr",
     "output_type": "stream",
     "text": [
      "Saved 1 image to \u001b[1mruns\\detect\\exp\u001b[0m\n",
      "Saved results to runs\\detect\\exp\n",
      "\n"
     ]
    },
    {
     "name": "stdout",
     "output_type": "stream",
     "text": [
      "[['ب', 'ع', 'ط'], '٦٨٢', 'القاهرة']\n"
     ]
    },
    {
     "name": "stderr",
     "output_type": "stream",
     "text": [
      "Saved 1 image to \u001b[1mruns\\detect\\exp\u001b[0m\n",
      "Saved results to runs\\detect\\exp\n",
      "\n"
     ]
    },
    {
     "name": "stdout",
     "output_type": "stream",
     "text": [
      "[['ب', 'ع', 'ط'], '٦٨٢', 'القاهرة']\n"
     ]
    },
    {
     "name": "stderr",
     "output_type": "stream",
     "text": [
      "Saved 1 image to \u001b[1mruns\\detect\\exp\u001b[0m\n",
      "Saved results to runs\\detect\\exp\n",
      "\n"
     ]
    },
    {
     "name": "stdout",
     "output_type": "stream",
     "text": [
      "[['ب', 'ع', 'ط'], '٦٨٢', 'القاهرة']\n"
     ]
    },
    {
     "name": "stderr",
     "output_type": "stream",
     "text": [
      "Saved 1 image to \u001b[1mruns\\detect\\exp\u001b[0m\n",
      "Saved results to runs\\detect\\exp\n",
      "\n"
     ]
    },
    {
     "name": "stdout",
     "output_type": "stream",
     "text": [
      "[['ب', 'ع', 'ط'], '٦٨٢', 'القاهرة']\n"
     ]
    },
    {
     "name": "stderr",
     "output_type": "stream",
     "text": [
      "Saved 1 image to \u001b[1mruns\\detect\\exp\u001b[0m\n",
      "Saved results to runs\\detect\\exp\n",
      "\n"
     ]
    },
    {
     "name": "stdout",
     "output_type": "stream",
     "text": [
      "[['ب', 'ع', 'ط'], '٦٨٢', 'القاهرة']\n"
     ]
    },
    {
     "name": "stderr",
     "output_type": "stream",
     "text": [
      "Saved 1 image to \u001b[1mruns\\detect\\exp\u001b[0m\n",
      "Saved results to runs\\detect\\exp\n",
      "\n"
     ]
    },
    {
     "name": "stdout",
     "output_type": "stream",
     "text": [
      "[['د', 'ب', 'ف'], '٩٨٧', 'القاهرة']\n"
     ]
    },
    {
     "name": "stderr",
     "output_type": "stream",
     "text": [
      "Saved 1 image to \u001b[1mruns\\detect\\exp\u001b[0m\n",
      "Saved results to runs\\detect\\exp\n",
      "\n"
     ]
    },
    {
     "name": "stdout",
     "output_type": "stream",
     "text": [
      "[['د', 'ب', 'ف'], '٩٨٧', 'القاهرة']\n"
     ]
    },
    {
     "name": "stderr",
     "output_type": "stream",
     "text": [
      "Saved 1 image to \u001b[1mruns\\detect\\exp\u001b[0m\n",
      "Saved results to runs\\detect\\exp\n",
      "\n"
     ]
    },
    {
     "name": "stdout",
     "output_type": "stream",
     "text": [
      "[['د', 'ب', 'ف'], '٩٨٧', 'القاهرة']\n"
     ]
    },
    {
     "name": "stderr",
     "output_type": "stream",
     "text": [
      "Saved 1 image to \u001b[1mruns\\detect\\exp\u001b[0m\n",
      "Saved results to runs\\detect\\exp\n",
      "\n"
     ]
    },
    {
     "name": "stdout",
     "output_type": "stream",
     "text": [
      "[['د', 'ب', 'ف'], '٩٨٧', 'القاهرة']\n"
     ]
    },
    {
     "name": "stderr",
     "output_type": "stream",
     "text": [
      "Saved 1 image to \u001b[1mruns\\detect\\exp\u001b[0m\n",
      "Saved results to runs\\detect\\exp\n",
      "\n"
     ]
    },
    {
     "name": "stdout",
     "output_type": "stream",
     "text": [
      "[['د', 'ب', 'ف'], '٩٨٧', 'القاهرة']\n"
     ]
    },
    {
     "name": "stderr",
     "output_type": "stream",
     "text": [
      "Saved 1 image to \u001b[1mruns\\detect\\exp\u001b[0m\n",
      "Saved results to runs\\detect\\exp\n",
      "\n"
     ]
    },
    {
     "name": "stdout",
     "output_type": "stream",
     "text": [
      "[['د', 'ب', 'ف'], '٩٨٧', 'القاهرة']\n"
     ]
    },
    {
     "name": "stderr",
     "output_type": "stream",
     "text": [
      "Saved 1 image to \u001b[1mruns\\detect\\exp\u001b[0m\n",
      "Saved results to runs\\detect\\exp\n",
      "\n"
     ]
    },
    {
     "name": "stdout",
     "output_type": "stream",
     "text": [
      "[['د', 'ب', 'ف'], '٩٨٧', 'القاهرة']\n"
     ]
    },
    {
     "name": "stderr",
     "output_type": "stream",
     "text": [
      "Saved 1 image to \u001b[1mruns\\detect\\exp\u001b[0m\n",
      "Saved results to runs\\detect\\exp\n",
      "\n"
     ]
    },
    {
     "name": "stdout",
     "output_type": "stream",
     "text": [
      "[['د', 'ب', 'ف'], '٩٨٧', 'القاهرة']\n"
     ]
    },
    {
     "name": "stderr",
     "output_type": "stream",
     "text": [
      "Saved 1 image to \u001b[1mruns\\detect\\exp\u001b[0m\n",
      "Saved results to runs\\detect\\exp\n",
      "\n"
     ]
    },
    {
     "name": "stdout",
     "output_type": "stream",
     "text": [
      "[['د', 'ب', 'ف'], '٩٨٧', 'القاهرة']\n"
     ]
    },
    {
     "name": "stderr",
     "output_type": "stream",
     "text": [
      "Saved 1 image to \u001b[1mruns\\detect\\exp\u001b[0m\n",
      "Saved results to runs\\detect\\exp\n",
      "\n"
     ]
    },
    {
     "name": "stdout",
     "output_type": "stream",
     "text": [
      "[['د', 'ب', 'ف'], '٩٨٧', 'القاهرة']\n"
     ]
    },
    {
     "name": "stderr",
     "output_type": "stream",
     "text": [
      "Saved 1 image to \u001b[1mruns\\detect\\exp\u001b[0m\n",
      "Saved results to runs\\detect\\exp\n",
      "\n"
     ]
    },
    {
     "name": "stdout",
     "output_type": "stream",
     "text": [
      "[['د', 'ب', 'ف'], '٩٨٧', 'القاهرة']\n"
     ]
    },
    {
     "name": "stderr",
     "output_type": "stream",
     "text": [
      "Saved 1 image to \u001b[1mruns\\detect\\exp\u001b[0m\n",
      "Saved results to runs\\detect\\exp\n",
      "\n"
     ]
    },
    {
     "name": "stdout",
     "output_type": "stream",
     "text": [
      "[['د', 'ب', 'ف'], '٩٨٧', 'القاهرة']\n"
     ]
    },
    {
     "name": "stderr",
     "output_type": "stream",
     "text": [
      "Saved 1 image to \u001b[1mruns\\detect\\exp\u001b[0m\n",
      "Saved results to runs\\detect\\exp\n",
      "\n"
     ]
    },
    {
     "name": "stdout",
     "output_type": "stream",
     "text": [
      "[['د', 'ب', 'ف'], '٩٨٧', 'القاهرة']\n"
     ]
    },
    {
     "name": "stderr",
     "output_type": "stream",
     "text": [
      "Saved 1 image to \u001b[1mruns\\detect\\exp\u001b[0m\n",
      "Saved results to runs\\detect\\exp\n",
      "\n"
     ]
    },
    {
     "name": "stdout",
     "output_type": "stream",
     "text": [
      "[['د', 'ب', 'ف'], '٩٨٧', 'القاهرة']\n"
     ]
    },
    {
     "name": "stderr",
     "output_type": "stream",
     "text": [
      "Saved 1 image to \u001b[1mruns\\detect\\exp\u001b[0m\n",
      "Saved results to runs\\detect\\exp\n",
      "\n"
     ]
    },
    {
     "name": "stdout",
     "output_type": "stream",
     "text": [
      "[['د', 'ب', 'ف'], '٩٨٧', 'القاهرة']\n"
     ]
    },
    {
     "name": "stderr",
     "output_type": "stream",
     "text": [
      "Saved 1 image to \u001b[1mruns\\detect\\exp\u001b[0m\n",
      "Saved results to runs\\detect\\exp\n",
      "\n"
     ]
    },
    {
     "name": "stdout",
     "output_type": "stream",
     "text": [
      "[['د', 'ب', 'ف'], '٩٨٧', 'القاهرة']\n"
     ]
    },
    {
     "name": "stderr",
     "output_type": "stream",
     "text": [
      "Saved 1 image to \u001b[1mruns\\detect\\exp\u001b[0m\n",
      "Saved results to runs\\detect\\exp\n",
      "\n"
     ]
    },
    {
     "name": "stdout",
     "output_type": "stream",
     "text": [
      "[['د', 'ب', 'ف'], '٩٨٧', 'القاهرة']\n"
     ]
    },
    {
     "name": "stderr",
     "output_type": "stream",
     "text": [
      "Saved 1 image to \u001b[1mruns\\detect\\exp\u001b[0m\n",
      "Saved results to runs\\detect\\exp\n",
      "\n"
     ]
    },
    {
     "name": "stdout",
     "output_type": "stream",
     "text": [
      "[['د', 'ب', 'ف'], '٩٨٧', 'القاهرة']\n"
     ]
    },
    {
     "name": "stderr",
     "output_type": "stream",
     "text": [
      "Saved 1 image to \u001b[1mruns\\detect\\exp\u001b[0m\n",
      "Saved results to runs\\detect\\exp\n",
      "\n"
     ]
    },
    {
     "name": "stdout",
     "output_type": "stream",
     "text": [
      "[['د', 'ب', 'ف'], '٩٨٧', 'القاهرة']\n"
     ]
    },
    {
     "name": "stderr",
     "output_type": "stream",
     "text": [
      "Saved 1 image to \u001b[1mruns\\detect\\exp\u001b[0m\n",
      "Saved results to runs\\detect\\exp\n",
      "\n"
     ]
    },
    {
     "name": "stdout",
     "output_type": "stream",
     "text": [
      "[['د', 'ب', 'ف'], '٩٨٧', 'القاهرة']\n"
     ]
    },
    {
     "name": "stderr",
     "output_type": "stream",
     "text": [
      "Saved 1 image to \u001b[1mruns\\detect\\exp\u001b[0m\n",
      "Saved results to runs\\detect\\exp\n",
      "\n"
     ]
    },
    {
     "name": "stdout",
     "output_type": "stream",
     "text": [
      "[['ن', 'و', 'ق'], '٦١٧', 'القاهرة']\n"
     ]
    },
    {
     "name": "stderr",
     "output_type": "stream",
     "text": [
      "Saved 1 image to \u001b[1mruns\\detect\\exp\u001b[0m\n",
      "Saved results to runs\\detect\\exp\n",
      "\n"
     ]
    },
    {
     "name": "stdout",
     "output_type": "stream",
     "text": [
      "[['ن', 'و', 'ق'], '٦١٧', 'القاهرة']\n"
     ]
    },
    {
     "name": "stderr",
     "output_type": "stream",
     "text": [
      "Saved 1 image to \u001b[1mruns\\detect\\exp\u001b[0m\n",
      "Saved results to runs\\detect\\exp\n",
      "\n"
     ]
    },
    {
     "name": "stdout",
     "output_type": "stream",
     "text": [
      "[[], '', 'أخرى']\n"
     ]
    },
    {
     "name": "stderr",
     "output_type": "stream",
     "text": [
      "Saved 1 image to \u001b[1mruns\\detect\\exp\u001b[0m\n",
      "Saved results to runs\\detect\\exp\n",
      "\n"
     ]
    },
    {
     "name": "stdout",
     "output_type": "stream",
     "text": [
      "[['ن', 'و', 'ق'], '٦١٧', 'القاهرة']\n"
     ]
    },
    {
     "name": "stderr",
     "output_type": "stream",
     "text": [
      "Saved 1 image to \u001b[1mruns\\detect\\exp\u001b[0m\n",
      "Saved results to runs\\detect\\exp\n",
      "\n"
     ]
    },
    {
     "name": "stdout",
     "output_type": "stream",
     "text": [
      "[[], '', 'أخرى']\n"
     ]
    },
    {
     "name": "stderr",
     "output_type": "stream",
     "text": [
      "Saved 1 image to \u001b[1mruns\\detect\\exp\u001b[0m\n",
      "Saved results to runs\\detect\\exp\n",
      "\n"
     ]
    },
    {
     "name": "stdout",
     "output_type": "stream",
     "text": [
      "[['ن', 'و', 'ق'], '٦١٧', 'القاهرة']\n"
     ]
    },
    {
     "name": "stderr",
     "output_type": "stream",
     "text": [
      "Saved 1 image to \u001b[1mruns\\detect\\exp\u001b[0m\n",
      "Saved results to runs\\detect\\exp\n",
      "\n"
     ]
    },
    {
     "name": "stdout",
     "output_type": "stream",
     "text": [
      "[['ن', 'و', 'ق'], '٦١٧', 'القاهرة']\n"
     ]
    },
    {
     "name": "stderr",
     "output_type": "stream",
     "text": [
      "Saved 1 image to \u001b[1mruns\\detect\\exp\u001b[0m\n",
      "Saved results to runs\\detect\\exp\n",
      "\n"
     ]
    },
    {
     "name": "stdout",
     "output_type": "stream",
     "text": [
      "[['ن', 'و', 'ق'], '٦١٧', 'القاهرة']\n"
     ]
    },
    {
     "name": "stderr",
     "output_type": "stream",
     "text": [
      "Saved 1 image to \u001b[1mruns\\detect\\exp\u001b[0m\n",
      "Saved results to runs\\detect\\exp\n",
      "\n"
     ]
    },
    {
     "name": "stdout",
     "output_type": "stream",
     "text": [
      "[['ن', 'و', 'ق'], '٦١٧', 'القاهرة']\n"
     ]
    },
    {
     "name": "stderr",
     "output_type": "stream",
     "text": [
      "Saved 1 image to \u001b[1mruns\\detect\\exp\u001b[0m\n",
      "Saved results to runs\\detect\\exp\n",
      "\n"
     ]
    },
    {
     "name": "stdout",
     "output_type": "stream",
     "text": [
      "[['ن', 'و', 'ق'], '٦١٧', 'القاهرة']\n"
     ]
    },
    {
     "name": "stderr",
     "output_type": "stream",
     "text": [
      "Saved 1 image to \u001b[1mruns\\detect\\exp\u001b[0m\n",
      "Saved results to runs\\detect\\exp\n",
      "\n"
     ]
    },
    {
     "name": "stdout",
     "output_type": "stream",
     "text": [
      "[['ن', 'و', 'ق'], '٦١٧', 'القاهرة']\n"
     ]
    },
    {
     "name": "stderr",
     "output_type": "stream",
     "text": [
      "Saved 1 image to \u001b[1mruns\\detect\\exp\u001b[0m\n",
      "Saved results to runs\\detect\\exp\n",
      "\n"
     ]
    },
    {
     "name": "stdout",
     "output_type": "stream",
     "text": [
      "[['ن', 'و', 'ق'], '٦١٧', 'القاهرة']\n"
     ]
    },
    {
     "name": "stderr",
     "output_type": "stream",
     "text": [
      "Saved 1 image to \u001b[1mruns\\detect\\exp\u001b[0m\n",
      "Saved results to runs\\detect\\exp\n",
      "\n"
     ]
    },
    {
     "name": "stdout",
     "output_type": "stream",
     "text": [
      "[['ن', 'و', 'ق'], '٦١٧', 'القاهرة']\n"
     ]
    },
    {
     "name": "stderr",
     "output_type": "stream",
     "text": [
      "Saved 1 image to \u001b[1mruns\\detect\\exp\u001b[0m\n",
      "Saved results to runs\\detect\\exp\n",
      "\n"
     ]
    },
    {
     "name": "stdout",
     "output_type": "stream",
     "text": [
      "[['ن', 'و', 'ق'], '٦١١٧', 'المنيا']\n"
     ]
    },
    {
     "name": "stderr",
     "output_type": "stream",
     "text": [
      "Saved 1 image to \u001b[1mruns\\detect\\exp\u001b[0m\n",
      "Saved results to runs\\detect\\exp\n",
      "\n"
     ]
    },
    {
     "name": "stdout",
     "output_type": "stream",
     "text": [
      "[['ن', 'و', 'ق'], '٦١٧', 'القاهرة']\n"
     ]
    },
    {
     "name": "stderr",
     "output_type": "stream",
     "text": [
      "Saved 1 image to \u001b[1mruns\\detect\\exp\u001b[0m\n",
      "Saved results to runs\\detect\\exp\n",
      "\n"
     ]
    },
    {
     "name": "stdout",
     "output_type": "stream",
     "text": [
      "[['ن', 'و', 'ق'], '٦١٧', 'القاهرة']\n"
     ]
    },
    {
     "name": "stderr",
     "output_type": "stream",
     "text": [
      "Saved 1 image to \u001b[1mruns\\detect\\exp\u001b[0m\n",
      "Saved results to runs\\detect\\exp\n",
      "\n"
     ]
    },
    {
     "name": "stdout",
     "output_type": "stream",
     "text": [
      "[['ن', 'و', 'ق'], '٦١٧', 'القاهرة']\n"
     ]
    },
    {
     "name": "stderr",
     "output_type": "stream",
     "text": [
      "Saved 1 image to \u001b[1mruns\\detect\\exp\u001b[0m\n",
      "Saved results to runs\\detect\\exp\n",
      "\n"
     ]
    },
    {
     "name": "stdout",
     "output_type": "stream",
     "text": [
      "[['ن', 'و', 'ق'], '٦١٧', 'القاهرة']\n"
     ]
    },
    {
     "name": "stderr",
     "output_type": "stream",
     "text": [
      "Saved 1 image to \u001b[1mruns\\detect\\exp\u001b[0m\n",
      "Saved results to runs\\detect\\exp\n",
      "\n"
     ]
    },
    {
     "name": "stdout",
     "output_type": "stream",
     "text": [
      "[['ن', 'و', 'ق'], '٦١٧', 'القاهرة']\n"
     ]
    },
    {
     "name": "stderr",
     "output_type": "stream",
     "text": [
      "Saved 1 image to \u001b[1mruns\\detect\\exp\u001b[0m\n",
      "Saved results to runs\\detect\\exp\n",
      "\n"
     ]
    },
    {
     "name": "stdout",
     "output_type": "stream",
     "text": [
      "[['ن', 'و', 'ق'], '٦١٧', 'القاهرة']\n"
     ]
    },
    {
     "name": "stderr",
     "output_type": "stream",
     "text": [
      "Saved 1 image to \u001b[1mruns\\detect\\exp\u001b[0m\n",
      "Saved results to runs\\detect\\exp\n",
      "\n"
     ]
    },
    {
     "name": "stdout",
     "output_type": "stream",
     "text": [
      "[['ن', 'و', 'ق'], '٦١٧', 'القاهرة']\n"
     ]
    },
    {
     "name": "stderr",
     "output_type": "stream",
     "text": [
      "Saved 1 image to \u001b[1mruns\\detect\\exp\u001b[0m\n",
      "Saved results to runs\\detect\\exp\n",
      "\n"
     ]
    },
    {
     "name": "stdout",
     "output_type": "stream",
     "text": [
      "[['د'], '٩٨٥٩', 'أخرى']\n"
     ]
    },
    {
     "name": "stderr",
     "output_type": "stream",
     "text": [
      "Saved 1 image to \u001b[1mruns\\detect\\exp\u001b[0m\n",
      "Saved results to runs\\detect\\exp\n",
      "\n"
     ]
    },
    {
     "name": "stdout",
     "output_type": "stream",
     "text": [
      "[['د', 'ق'], '٩٨٥', 'أخرى']\n"
     ]
    },
    {
     "name": "stderr",
     "output_type": "stream",
     "text": [
      "Saved 1 image to \u001b[1mruns\\detect\\exp\u001b[0m\n",
      "Saved results to runs\\detect\\exp\n",
      "\n"
     ]
    },
    {
     "name": "stdout",
     "output_type": "stream",
     "text": [
      "[['د', 'ق'], '٩٨٥٩', 'الجيزة']\n"
     ]
    },
    {
     "name": "stderr",
     "output_type": "stream",
     "text": [
      "Saved 1 image to \u001b[1mruns\\detect\\exp\u001b[0m\n",
      "Saved results to runs\\detect\\exp\n",
      "\n"
     ]
    },
    {
     "name": "stdout",
     "output_type": "stream",
     "text": [
      "[['د', 'ق'], '٩٨٥٩', 'الجيزة']\n"
     ]
    },
    {
     "name": "stderr",
     "output_type": "stream",
     "text": [
      "Saved 1 image to \u001b[1mruns\\detect\\exp\u001b[0m\n",
      "Saved results to runs\\detect\\exp\n",
      "\n"
     ]
    },
    {
     "name": "stdout",
     "output_type": "stream",
     "text": [
      "[['د', 'ف', 'ق'], '٩٨٥٩', 'الدقهلية']\n"
     ]
    },
    {
     "name": "stderr",
     "output_type": "stream",
     "text": [
      "Saved 1 image to \u001b[1mruns\\detect\\exp\u001b[0m\n",
      "Saved results to runs\\detect\\exp\n",
      "\n"
     ]
    },
    {
     "name": "stdout",
     "output_type": "stream",
     "text": [
      "[['د', 'ق'], '٩٨٥٩', 'الجيزة']\n"
     ]
    },
    {
     "name": "stderr",
     "output_type": "stream",
     "text": [
      "Saved 1 image to \u001b[1mruns\\detect\\exp\u001b[0m\n",
      "Saved results to runs\\detect\\exp\n",
      "\n"
     ]
    },
    {
     "name": "stdout",
     "output_type": "stream",
     "text": [
      "[[], '', 'أخرى']\n"
     ]
    },
    {
     "name": "stderr",
     "output_type": "stream",
     "text": [
      "Saved 1 image to \u001b[1mruns\\detect\\exp\u001b[0m\n",
      "Saved results to runs\\detect\\exp\n",
      "\n"
     ]
    },
    {
     "name": "stdout",
     "output_type": "stream",
     "text": [
      "[['د', 'ق'], '٩٨٥٩', 'الجيزة']\n"
     ]
    },
    {
     "name": "stderr",
     "output_type": "stream",
     "text": [
      "Saved 1 image to \u001b[1mruns\\detect\\exp\u001b[0m\n",
      "Saved results to runs\\detect\\exp\n",
      "\n"
     ]
    },
    {
     "name": "stdout",
     "output_type": "stream",
     "text": [
      "[['د', 'ق'], '٩٨٥', 'أخرى']\n"
     ]
    },
    {
     "name": "stderr",
     "output_type": "stream",
     "text": [
      "Saved 1 image to \u001b[1mruns\\detect\\exp\u001b[0m\n",
      "Saved results to runs\\detect\\exp\n",
      "\n"
     ]
    },
    {
     "name": "stdout",
     "output_type": "stream",
     "text": [
      "[['د', 'ق'], '٨٩٨٥٩', 'أخرى']\n"
     ]
    },
    {
     "name": "stderr",
     "output_type": "stream",
     "text": [
      "Saved 1 image to \u001b[1mruns\\detect\\exp\u001b[0m\n",
      "Saved results to runs\\detect\\exp\n",
      "\n"
     ]
    },
    {
     "name": "stdout",
     "output_type": "stream",
     "text": [
      "[['د', 'ق'], '٩٨٥٩', 'الجيزة']\n"
     ]
    },
    {
     "name": "stderr",
     "output_type": "stream",
     "text": [
      "Saved 1 image to \u001b[1mruns\\detect\\exp\u001b[0m\n",
      "Saved results to runs\\detect\\exp\n",
      "\n"
     ]
    },
    {
     "name": "stdout",
     "output_type": "stream",
     "text": [
      "[['د', 'ق'], '٩٨٥٩', 'الجيزة']\n"
     ]
    },
    {
     "name": "stderr",
     "output_type": "stream",
     "text": [
      "Saved 1 image to \u001b[1mruns\\detect\\exp\u001b[0m\n",
      "Saved results to runs\\detect\\exp\n",
      "\n"
     ]
    },
    {
     "name": "stdout",
     "output_type": "stream",
     "text": [
      "[['د', 'ق'], '٩٨٥٩', 'الجيزة']\n"
     ]
    },
    {
     "name": "stderr",
     "output_type": "stream",
     "text": [
      "Saved 1 image to \u001b[1mruns\\detect\\exp\u001b[0m\n",
      "Saved results to runs\\detect\\exp\n",
      "\n"
     ]
    },
    {
     "name": "stdout",
     "output_type": "stream",
     "text": [
      "[['د', 'ق'], '٩٨٥', 'أخرى']\n"
     ]
    },
    {
     "name": "stderr",
     "output_type": "stream",
     "text": [
      "Saved 1 image to \u001b[1mruns\\detect\\exp\u001b[0m\n",
      "Saved results to runs\\detect\\exp\n",
      "\n"
     ]
    },
    {
     "name": "stdout",
     "output_type": "stream",
     "text": [
      "[['د', 'ق'], '٩٨٥٩', 'الجيزة']\n"
     ]
    },
    {
     "name": "stderr",
     "output_type": "stream",
     "text": [
      "Saved 1 image to \u001b[1mruns\\detect\\exp\u001b[0m\n",
      "Saved results to runs\\detect\\exp\n",
      "\n"
     ]
    },
    {
     "name": "stdout",
     "output_type": "stream",
     "text": [
      "[['د', 'ق'], '٩٨٥٩', 'الجيزة']\n"
     ]
    },
    {
     "name": "stderr",
     "output_type": "stream",
     "text": [
      "Saved 1 image to \u001b[1mruns\\detect\\exp\u001b[0m\n",
      "Saved results to runs\\detect\\exp\n",
      "\n"
     ]
    },
    {
     "name": "stdout",
     "output_type": "stream",
     "text": [
      "[['د', 'ق'], '٩٨٥٩', 'الجيزة']\n"
     ]
    },
    {
     "name": "stderr",
     "output_type": "stream",
     "text": [
      "Saved 1 image to \u001b[1mruns\\detect\\exp\u001b[0m\n",
      "Saved results to runs\\detect\\exp\n",
      "\n"
     ]
    },
    {
     "name": "stdout",
     "output_type": "stream",
     "text": [
      "[['د', 'ق'], '٩٨٥٩', 'الجيزة']\n"
     ]
    },
    {
     "name": "stderr",
     "output_type": "stream",
     "text": [
      "Saved 1 image to \u001b[1mruns\\detect\\exp\u001b[0m\n",
      "Saved results to runs\\detect\\exp\n",
      "\n"
     ]
    },
    {
     "name": "stdout",
     "output_type": "stream",
     "text": [
      "[['د', 'ق'], '٩٨٥٩', 'الجيزة']\n"
     ]
    },
    {
     "name": "stderr",
     "output_type": "stream",
     "text": [
      "Saved 1 image to \u001b[1mruns\\detect\\exp\u001b[0m\n",
      "Saved results to runs\\detect\\exp\n",
      "\n"
     ]
    },
    {
     "name": "stdout",
     "output_type": "stream",
     "text": [
      "[['د', 'ق'], '٩٨٥', 'أخرى']\n"
     ]
    },
    {
     "name": "stderr",
     "output_type": "stream",
     "text": [
      "Saved 1 image to \u001b[1mruns\\detect\\exp\u001b[0m\n",
      "Saved results to runs\\detect\\exp\n",
      "\n"
     ]
    },
    {
     "name": "stdout",
     "output_type": "stream",
     "text": [
      "[['د', 'ق'], '٩٨٥٩', 'الجيزة']\n"
     ]
    }
   ],
   "source": [
    "# Define the path to the input video file\n",
    "video_path = r\"C:\\Users\\pc\\Videos\\Download Videos\\one_video\\test_video1.mp4\"\n",
    "\n",
    "# Initialize the video capture object\n",
    "cap = cv2.VideoCapture(video_path)\n",
    "\n",
    "# Initialize variables for frame extraction\n",
    "frame_count = 0\n",
    "frame_rate = 0.1  # Extract a frame every 0.1 seconds\n",
    "\n",
    "# List to store detected cars and plates\n",
    "cars_plates_lst = []\n",
    "# cars_plates_set = set()\n",
    "\n",
    "# Temporary list to store 5 values\n",
    "temp_list = []\n",
    "\n",
    "while True:\n",
    "    ret, frame = cap.read()\n",
    "    if not ret:\n",
    "        break\n",
    "\n",
    "    if frame_count % int(cap.get(cv2.CAP_PROP_FPS)) == 0:\n",
    "        delete_folder_or_file(exp_path)    \n",
    "        delete_folder_or_file(saved_img_dir)\n",
    "        delete_folder_or_file(selected_images_dir)\n",
    "        delete_folder_or_file(resized_img_dir)\n",
    "\n",
    "        # Perform object detection on the frame\n",
    "        results = perform_object_detection(frame)\n",
    "\n",
    "        # Process the final result\n",
    "        final_result = return_final_result(exp_path, detection_model, images, cropped_img_dir, saved_img_dir, selected_img_dir, resized_img_dir)\n",
    "\n",
    "        if final_result is not None and final_result != \"2\":\n",
    "            temp_list.append(final_result)\n",
    "            print(final_result)\n",
    "\n",
    "            # Check if 5 values are collected\n",
    "            if len(temp_list) == 20:\n",
    "                x = return_most_common_plates(temp_list)\n",
    "                if x not in cars_plates_lst:\n",
    "                    cars_plates_lst.append(x)\n",
    "                temp_list = []  # Reset the temporary list\n",
    "\n",
    "    # Increment the frame count\n",
    "    frame_count += 1\n",
    "\n",
    "    # Set the video capture object to the next frame at the specified frame rate\n",
    "    cap.set(cv2.CAP_PROP_POS_FRAMES, frame_count * frame_rate)\n",
    "\n",
    "# Release the video capture object\n",
    "cap.release()"
   ]
  },
  {
   "cell_type": "code",
   "execution_count": 38,
   "id": "c4ffdbfd",
   "metadata": {},
   "outputs": [
    {
     "data": {
      "text/plain": [
       "[[[['ه', 'ص', 'ع'], '٧٦٨', 'القاهرة']],\n",
       " [[['ل', 'ي', 'ط'], '٤٦١', 'القاهرة']],\n",
       " [[['ن', 'و'], '٢٩١٨', 'الجيزة']],\n",
       " [[['د', 'ر'], '١٥٦', 'أخرى']],\n",
       " [[['د', 'ر'], '١٥٦٣', 'الجيزة']],\n",
       " [[['أ', 'ي', 'ص'], '٧٣٥٩', 'القاهرة']],\n",
       " [[['ه', 'و', 'ف'], '٩٥٧', 'القاهرة']],\n",
       " [[['ب', 'ع', 'ط'], '٦٨٢', 'القاهرة']],\n",
       " [[['د', 'ب', 'ف'], '٩٨٧', 'القاهرة']],\n",
       " [[['ن', 'و', 'ق'], '٦١٧', 'القاهرة']]]"
      ]
     },
     "execution_count": 38,
     "metadata": {},
     "output_type": "execute_result"
    }
   ],
   "source": [
    "cars_plates_lst"
   ]
  }
 ],
 "metadata": {
  "kernelspec": {
   "display_name": "Python 3 (ipykernel)",
   "language": "python",
   "name": "python3"
  },
  "language_info": {
   "codemirror_mode": {
    "name": "ipython",
    "version": 3
   },
   "file_extension": ".py",
   "mimetype": "text/x-python",
   "name": "python",
   "nbconvert_exporter": "python",
   "pygments_lexer": "ipython3",
   "version": "3.11.5"
  }
 },
 "nbformat": 4,
 "nbformat_minor": 5
}
